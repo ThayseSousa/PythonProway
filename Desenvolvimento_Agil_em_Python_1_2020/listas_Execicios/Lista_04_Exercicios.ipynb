{
  "nbformat": 4,
  "nbformat_minor": 0,
  "metadata": {
    "colab": {
      "name": "Lista 04 Exercicios.ipynb",
      "provenance": [],
      "collapsed_sections": []
    },
    "kernelspec": {
      "name": "python3",
      "display_name": "Python 3"
    }
  },
  "cells": [
    {
      "cell_type": "markdown",
      "metadata": {
        "id": "b6MeoXS9C5nh",
        "colab_type": "text"
      },
      "source": [
        "<h1>EXERCÍCIOS</h1>"
      ]
    },
    {
      "cell_type": "markdown",
      "metadata": {
        "id": "KlN1NPeTDCEw",
        "colab_type": "text"
      },
      "source": [
        "Para poder fazer os execicíos é necessário executar o próximo bloco.\n",
        "\n",
        "Este bloco possui funções para gerar as listas necessárias.\n",
        "\n",
        "Estas listas são aleatórias, pois não nos interessam o conteúdo da lista e sim a aplicação dos mentódos e funções aprendeidos.\n",
        "\n",
        "Bons Estudos!"
      ]
    },
    {
      "cell_type": "code",
      "metadata": {
        "id": "rAISCcyXC1J9",
        "colab_type": "code",
        "colab": {}
      },
      "source": [
        "import random\n",
        "from random import randint\n",
        " \n",
        "def lista_simples_int_str(numero_objetos = int(random.randint(5,100))):\n",
        "    '''\n",
        "    Retorna lista randômica, pura, composta de string ou inteiros, variando de 5 a 100 itens.\n",
        "\n",
        "    '''\n",
        "    tipo_lista = int(random.randint(0,1))\n",
        "    if tipo_lista == 0:\n",
        "        lista = lista_simples_str(numero_objetos)\n",
        "    else:\n",
        "        lista = lista_simples_int(numero_objetos)\n",
        "    return lista\n",
        "\n",
        "def lista_simples_inpura_int_str(numero_objetos = int(random.randint(5,100))):\n",
        "    '''\n",
        "    Retorna lista randômica, impura, composta de string, inteiros ou alfanúmerica, variando de 5 a 100 itens.\n",
        "\n",
        "    '''\n",
        "    tipo_lista = int(random.randint(0,2))\n",
        "    if tipo_lista == 0:\n",
        "        lista = lista_simples_str(numero_objetos)\n",
        "    elif tipo_lista == 1:\n",
        "        lista = lista_simples_impura(numero_objetos)\n",
        "    else:\n",
        "        lista = lista_simples_int(numero_objetos)\n",
        "    return lista\n",
        "\n",
        "def lista_simples_int(numero_objetos = int(random.randint(5,100))):\n",
        "    '''\n",
        "    Retorna uma lista randômica com inteiros contendo de 5 a 100 itens.\n",
        "    '''\n",
        "    lista = []\n",
        "    for i in range(numero_objetos):\n",
        "        lista.append(int(random.randint(1,1000)))\n",
        "    return lista\n",
        "\n",
        "def lista_simples_str(numero_objetos = int(random.randint(5,100))):\n",
        "    '''\n",
        "    Retorna uma lista randômica com string, de 1 a 10 caracteres, contendo de 5 a 100 itens.\n",
        "    Os caracteres podem ser minusculos ou maiusculos.\n",
        "    '''\n",
        "    lista_alfabetica = ['a', 'b', 'c', 'd', 'e', 'f', 'g', \n",
        "                        'h', 'i', 'j', 'k', 'l', 'm', 'n',\n",
        "                        'o', 'p', 'q', 'r', 's', 't', 'u',\n",
        "                        'v', 'w', 'x', 'y', 'z']\n",
        "    lista = []\n",
        "    for i in range(numero_objetos):\n",
        "        letra = ''\n",
        "        for i in range(int(random.randint(1,10))):\n",
        "            char = random.choice(lista_alfabetica)\n",
        "            if int(random.randint(0,1)) == 1:\n",
        "                letra = letra + char.upper()\n",
        "            else:\n",
        "                letra = letra + char\n",
        "        lista.append(letra)\n",
        "    return lista\n",
        "\n",
        "def lista_simples_impura(numero_objetos = int(random.randint(5,100))):\n",
        "    '''\n",
        "    Retorna uma lista randômica com alfanumérica, de 1 a 10 caracteres, numeros de 0 a 1000,\n",
        "    contendo de 5 a 100 itens.\n",
        "    Os caracteres podem ser minusculos ou maiusculos.\n",
        "    '''\n",
        "    lista_alfabetica = ['a', 'b', 'c', 'd', 'e', 'f', 'g', \n",
        "                        'h', 'i', 'j', 'k', 'l', 'm', 'n',\n",
        "                        'o', 'p', 'q', 'r', 's', 't', 'u',\n",
        "                        'v', 'w', 'x', 'y', 'z', '0', '1',\n",
        "                        '2', '3', '4', '5', '6', '7', '8',\n",
        "                        '9']\n",
        "    lista = []\n",
        "    for i in range(numero_objetos):\n",
        "        letra = ''\n",
        "        if int(random.randint(0,1)) == 0:\n",
        "            lista.append(random.randint(0,1000))\n",
        "        else:\n",
        "            for i in range(int(random.randint(1,10))):\n",
        "                char = random.choice(lista_alfabetica)\n",
        "                if int(random.randint(0,1)) == 0:\n",
        "                    letra = letra + char.upper()\n",
        "                else: \n",
        "                    letra = letra + char\n",
        "            lista.append(letra)\n",
        "    return lista\n",
        "\n",
        "            \n",
        "def lista_lista_int():\n",
        "    pass\n",
        "\n",
        "\n",
        "def embaralhar(numero=3,numero_objetos=30,lista_return=None):\n",
        "    '''\n",
        "    Cria uma lista contendo várias listas, inteiras com 30 itens. Ela irá copiar estas listas e \n",
        "    embaralhar de forma que não se sabe se as listas são as mesmas ou são somente iguais!\n",
        "    '''\n",
        "    lista = []\n",
        "    lista1 = []\n",
        "    lista2 = []\n",
        "    for i in range(numero):\n",
        "        lista1.append(lista_simples_int(numero_objetos))\n",
        "\n",
        "    for i in lista1:\n",
        "        lista2.append(i.copy())\n",
        "    lista1.extend(lista2)\n",
        "    # quntas listas deve ser retornadas!\n",
        "    if lista_return == None:\n",
        "        for i in lista1:\n",
        "            lista.append(random.choice(lista1))\n",
        "    else:\n",
        "        for i in range(lista_return):\n",
        "            lista.append(random.choice(lista1))\n",
        "    \n",
        "    return lista\n",
        "\n",
        "\n",
        "def embaralhar_int_str_hard(numero=3,numero_objetos=30):\n",
        "    '''\n",
        "    Cria uma lista contendo várias listas, inteiras, string ou alfanunéricas com vários itens.\n",
        "    Ela irá copiar estas listas e embaralhar de forma que não se sabe se as listas são as mesmas \n",
        "    ou são somente iguais!\n",
        "    '''\n",
        "    lista = []\n",
        "    lista1 = []\n",
        "    lista2 = []\n",
        "    for i in range(numero):\n",
        "        lista1.append(lista_simples_inpura_int_str(numero_objetos))\n",
        "\n",
        "    for i in lista1:\n",
        "        lista2.append(i.copy())\n",
        "    lista1.extend(lista2)\n",
        "    multiplicador = random.randint(1,25)\n",
        "    for i in range(len(lista1) * multiplicador):\n",
        "        lista.append(random.choice(lista1))\n",
        "    \n",
        "    return lista\n",
        "\n",
        "\n",
        "def binario (numero_objetos=8):\n",
        "    lista = []\n",
        "    for i in range(numero_objetos):\n",
        "        lista.append(random.randint(0,1))\n",
        "    return lista"
      ],
      "execution_count": 34,
      "outputs": []
    },
    {
      "cell_type": "markdown",
      "metadata": {
        "id": "_8HfGv85D584",
        "colab_type": "text"
      },
      "source": [
        "\n",
        "\n",
        "---\n",
        "\n"
      ]
    },
    {
      "cell_type": "markdown",
      "metadata": {
        "id": "N_rci67lD7Lu",
        "colab_type": "text"
      },
      "source": [
        "1) Com as listas aleatórias (lista1,lista2,lista3) e usando as funções para listas, f-string, responda as seguintes questões:"
      ]
    },
    {
      "cell_type": "code",
      "metadata": {
        "id": "BtW5D-ZoEMjw",
        "colab_type": "code",
        "colab": {}
      },
      "source": [
        "# Execute este código para gerar as listas\n",
        "\n",
        "lista1 = lista_simples_int(int(random.randint(5,100)))\n",
        "lista2 = lista_simples_int(int(random.randint(5,100)))\n",
        "lista3 = lista_simples_int(int(random.randint(5,100)))"
      ],
      "execution_count": null,
      "outputs": []
    },
    {
      "cell_type": "markdown",
      "metadata": {
        "id": "-EN_WcXvIbqG",
        "colab_type": "text"
      },
      "source": [
        "1.1) Qual é o tamanho da lista1?"
      ]
    },
    {
      "cell_type": "code",
      "metadata": {
        "id": "49d6miIdIbAZ",
        "colab_type": "code",
        "colab": {}
      },
      "source": [
        ""
      ],
      "execution_count": null,
      "outputs": []
    },
    {
      "cell_type": "markdown",
      "metadata": {
        "id": "-Lf5RvyRIgLl",
        "colab_type": "text"
      },
      "source": [
        "1.2) Qual é o maior valor da lista2?"
      ]
    },
    {
      "cell_type": "code",
      "metadata": {
        "id": "ywRnft-_Ih6X",
        "colab_type": "code",
        "colab": {}
      },
      "source": [
        ""
      ],
      "execution_count": null,
      "outputs": []
    },
    {
      "cell_type": "markdown",
      "metadata": {
        "id": "peW06mmBIjiq",
        "colab_type": "text"
      },
      "source": [
        "1.3) Qual seria a soma do maior valor com o menor valor da lista2?"
      ]
    },
    {
      "cell_type": "code",
      "metadata": {
        "id": "CK-QG4oRIk_u",
        "colab_type": "code",
        "colab": {}
      },
      "source": [
        ""
      ],
      "execution_count": null,
      "outputs": []
    },
    {
      "cell_type": "markdown",
      "metadata": {
        "id": "EuPwIVJJIlmM",
        "colab_type": "text"
      },
      "source": [
        "1.4) Qual é a média aritmética da lista1?"
      ]
    },
    {
      "cell_type": "code",
      "metadata": {
        "id": "5JpWJTyEIm_9",
        "colab_type": "code",
        "colab": {}
      },
      "source": [
        ""
      ],
      "execution_count": null,
      "outputs": []
    },
    {
      "cell_type": "markdown",
      "metadata": {
        "id": "qOzzwI_gIniJ",
        "colab_type": "text"
      },
      "source": [
        "1.5) Qual o valor da soma de todas as listas e a soma total delas?\n",
        "\n",
        "Quero que mostre a soma individual (por lista) e a soma total de todas elas (soma das somas das listas)\n"
      ]
    },
    {
      "cell_type": "code",
      "metadata": {
        "id": "ophamMbwIr6x",
        "colab_type": "code",
        "colab": {}
      },
      "source": [
        ""
      ],
      "execution_count": null,
      "outputs": []
    },
    {
      "cell_type": "markdown",
      "metadata": {
        "id": "I9zUI5LuIsXx",
        "colab_type": "text"
      },
      "source": [
        "1.6) Usando o f-string, imprima todos os valores da lista1 um de baixo do outro."
      ]
    },
    {
      "cell_type": "code",
      "metadata": {
        "id": "4XBbi6WUIu1d",
        "colab_type": "code",
        "colab": {}
      },
      "source": [
        ""
      ],
      "execution_count": null,
      "outputs": []
    },
    {
      "cell_type": "markdown",
      "metadata": {
        "id": "AXFYggRNIvGT",
        "colab_type": "text"
      },
      "source": [
        "1.7) Com a indexação e f-string, mostre o valor das posições 5, 9, 10 e 25 de cada lista.\n",
        "\n",
        "Trate para evitar o erro: IndexError"
      ]
    },
    {
      "cell_type": "code",
      "metadata": {
        "id": "2g0nO4PZI3sL",
        "colab_type": "code",
        "colab": {}
      },
      "source": [
        ""
      ],
      "execution_count": null,
      "outputs": []
    },
    {
      "cell_type": "markdown",
      "metadata": {
        "id": "HSnmFFvtI7x3",
        "colab_type": "text"
      },
      "source": [
        "1.8) Mostre qual das listas tem mais itens \n",
        "\n",
        "(lembre-se, as listas são randômicas, não há como prever o tamanho delas)."
      ]
    },
    {
      "cell_type": "code",
      "metadata": {
        "id": "LowN8D0IJAI5",
        "colab_type": "code",
        "colab": {}
      },
      "source": [
        ""
      ],
      "execution_count": null,
      "outputs": []
    },
    {
      "cell_type": "markdown",
      "metadata": {
        "id": "_mzwZcKRJAZj",
        "colab_type": "text"
      },
      "source": [
        "1.9) Some os maiores números de todas as listas e subtraia pelo menor número dos menores valores das listas.\n",
        "\n",
        "Para obter o menor valor, pegue o menor valor das listas e veja qual deles é o menor e use ele."
      ]
    },
    {
      "cell_type": "code",
      "metadata": {
        "id": "k8CRAPsyJD3B",
        "colab_type": "code",
        "colab": {}
      },
      "source": [
        ""
      ],
      "execution_count": null,
      "outputs": []
    },
    {
      "cell_type": "markdown",
      "metadata": {
        "id": "80ibvGSVJEVq",
        "colab_type": "text"
      },
      "source": [
        "1.10) Pegue o maior valor de todas as listas e some com o menor valor de todas as listas"
      ]
    },
    {
      "cell_type": "code",
      "metadata": {
        "id": "tVQ07WZ2JHMl",
        "colab_type": "code",
        "colab": {}
      },
      "source": [
        ""
      ],
      "execution_count": null,
      "outputs": []
    },
    {
      "cell_type": "markdown",
      "metadata": {
        "id": "COnI1HnEJJGG",
        "colab_type": "text"
      },
      "source": [
        "\n",
        "\n",
        "---\n",
        "\n"
      ]
    },
    {
      "cell_type": "markdown",
      "metadata": {
        "id": "v1EIN8SnJJ3q",
        "colab_type": "text"
      },
      "source": [
        "2) A função embaralhar() irá criar listas aleátorias, copiar-las, e embaralhar. \n",
        "\n",
        "Desta forma não se sabe se as listas são iguais ou se as listas são as mesmas. Como defult ela irá criar 3 listas diferentes com 30 itens, copiálas e embaralar randomicamente, retornando uma lista com o dobro (6) de itens."
      ]
    },
    {
      "cell_type": "code",
      "metadata": {
        "id": "xc_vHTyeJr1j",
        "colab_type": "code",
        "colab": {}
      },
      "source": [
        "# Execute este código para gerar as listas\n",
        "\n",
        "lista = embaralhar(2,10)\n",
        "\n",
        "a = lista[0]\n",
        "b = lista[1]\n",
        "c = lista[2]\n",
        "d = lista[3]\n",
        "\n",
        "print(a)\n",
        "print(b)\n",
        "print(c)\n",
        "print(d)\n",
        "print()\n",
        "\n",
        "# Neste caso, ele irá criar 2 listas com 10 itens, e retornará\n",
        "# uma lista com 4 listas podendo cada uma ser cópia ou uma só.\n",
        "lista = embaralhar(2,10,2)\n",
        "print(lista)"
      ],
      "execution_count": null,
      "outputs": []
    },
    {
      "cell_type": "markdown",
      "metadata": {
        "id": "KqaX5D7XK4p3",
        "colab_type": "text"
      },
      "source": [
        "2.1) Analisnado a lista gerada (possui 2 listas), diga se as duas listas são elas mesmas (is) ou são somente iguais (==)."
      ]
    },
    {
      "cell_type": "code",
      "metadata": {
        "id": "LoiUZMfwK91L",
        "colab_type": "code",
        "colab": {}
      },
      "source": [
        ""
      ],
      "execution_count": null,
      "outputs": []
    },
    {
      "cell_type": "markdown",
      "metadata": {
        "id": "a1jA4vCvK-Rb",
        "colab_type": "text"
      },
      "source": [
        "2.2) Qual é o maior valor destas duas listas"
      ]
    },
    {
      "cell_type": "code",
      "metadata": {
        "id": "r_dd0npzLBb3",
        "colab_type": "code",
        "colab": {}
      },
      "source": [
        ""
      ],
      "execution_count": null,
      "outputs": []
    },
    {
      "cell_type": "markdown",
      "metadata": {
        "id": "ulFdeixNLBzq",
        "colab_type": "text"
      },
      "source": [
        "2.3) Qual é o maior valor de cada lista"
      ]
    },
    {
      "cell_type": "code",
      "metadata": {
        "id": "k-uhXO5gLGBW",
        "colab_type": "code",
        "colab": {}
      },
      "source": [
        ""
      ],
      "execution_count": null,
      "outputs": []
    },
    {
      "cell_type": "markdown",
      "metadata": {
        "id": "peviZGYqLGjP",
        "colab_type": "text"
      },
      "source": [
        "2.4) Há o número 10 dentro da lista[0]?"
      ]
    },
    {
      "cell_type": "code",
      "metadata": {
        "id": "u6BhwanYLJ-y",
        "colab_type": "code",
        "colab": {}
      },
      "source": [
        ""
      ],
      "execution_count": null,
      "outputs": []
    },
    {
      "cell_type": "markdown",
      "metadata": {
        "id": "WfmL3_nZLKg_",
        "colab_type": "text"
      },
      "source": [
        "2.5) Há o número 20 dentro da lista[1]?"
      ]
    },
    {
      "cell_type": "code",
      "metadata": {
        "id": "Pm3m5NoZLO9S",
        "colab_type": "code",
        "colab": {}
      },
      "source": [
        ""
      ],
      "execution_count": null,
      "outputs": []
    },
    {
      "cell_type": "markdown",
      "metadata": {
        "id": "K2DwMDB3LPYe",
        "colab_type": "text"
      },
      "source": [
        "2.6) Quantos números da lista[0] tem dentro da lista[1]?"
      ]
    },
    {
      "cell_type": "code",
      "metadata": {
        "id": "9KaUGOIgLRzG",
        "colab_type": "code",
        "colab": {}
      },
      "source": [
        ""
      ],
      "execution_count": null,
      "outputs": []
    },
    {
      "cell_type": "markdown",
      "metadata": {
        "id": "HV5EEykhLUAM",
        "colab_type": "text"
      },
      "source": [
        "2.7) Mostre os números da lista[0] que estão dentro da lista[1]"
      ]
    },
    {
      "cell_type": "code",
      "metadata": {
        "id": "eEAffC2iLWkT",
        "colab_type": "code",
        "colab": {}
      },
      "source": [
        ""
      ],
      "execution_count": null,
      "outputs": []
    },
    {
      "cell_type": "markdown",
      "metadata": {
        "id": "ZiLJBcE_LXYH",
        "colab_type": "text"
      },
      "source": [
        "2.8) Mutliplique a soma da lista[0] com cada item da lista[1]"
      ]
    },
    {
      "cell_type": "code",
      "metadata": {
        "id": "QS8wBJgZLZ7Q",
        "colab_type": "code",
        "colab": {}
      },
      "source": [
        ""
      ],
      "execution_count": null,
      "outputs": []
    },
    {
      "cell_type": "markdown",
      "metadata": {
        "id": "u2Qa32PQLaZA",
        "colab_type": "text"
      },
      "source": [
        "2.9) Faça uma divizão inteira do maior número da lista pelo menor numero da lista. \n",
        "\n",
        "Após verifique se o resultado está dentro de uma das listas, se sim, diga qual!\n",
        "\n",
        "Exemplo:\n",
        "```\n",
        "lista = [[1,2,3],[4,5,6]]\n",
        "```\n",
        "O maior elemento da lista é 5 e mo menor é o 1.<br>\n",
        "5//1 = 5<br>\n",
        "5 está na lista[1]"
      ]
    },
    {
      "cell_type": "code",
      "metadata": {
        "id": "GXdBNnD2Mg4F",
        "colab_type": "code",
        "colab": {}
      },
      "source": [
        ""
      ],
      "execution_count": null,
      "outputs": []
    },
    {
      "cell_type": "markdown",
      "metadata": {
        "id": "jCDhb9jmMptS",
        "colab_type": "text"
      },
      "source": [
        "2.10) Ferifique se o maior número da lista[0] está dentro da lista[1] e se o menor número da lista[1] está na lista[0]."
      ]
    },
    {
      "cell_type": "markdown",
      "metadata": {
        "id": "hNrYEhdlMwSk",
        "colab_type": "text"
      },
      "source": [
        "\n",
        "\n",
        "---\n",
        "\n"
      ]
    },
    {
      "cell_type": "markdown",
      "metadata": {
        "id": "vi2wX-I2Mxk9",
        "colab_type": "text"
      },
      "source": [
        "3) Escreva uma função chamada nested_sum que receba a lista de listas de números inteiros (lista1), retorne uma lista única e print a soma de todos os elementos.\n",
        "\n",
        "```\n",
        "# Por exemplo:\n",
        "\n",
        ">>> t = [[1, 2], [3], [4, 5, 6]]\n",
        ">>> lista = nested_sum(t)\n",
        "21\n",
        ">>> lista\n",
        "[1, 2, 3, 4, 5, 6]\n",
        "```\n",
        "\n",
        "\n",
        "\n"
      ]
    },
    {
      "cell_type": "code",
      "metadata": {
        "id": "j59ZcXOkOyVu",
        "colab_type": "code",
        "colab": {}
      },
      "source": [
        "####################### Não apagar!\n",
        "lista1 = [lista_simples_int() ,lista_simples_int(), lista_simples_int()]\n",
        "#######################\n",
        "\n"
      ],
      "execution_count": null,
      "outputs": []
    },
    {
      "cell_type": "markdown",
      "metadata": {
        "id": "n3KVRL-8O-RL",
        "colab_type": "text"
      },
      "source": [
        "4) Com as seguintes listas, transforme em uma string para poder gravar (futuramente) em um arquivo!\n",
        "\n"
      ]
    },
    {
      "cell_type": "code",
      "metadata": {
        "id": "zR8UcBKnPIjZ",
        "colab_type": "code",
        "colab": {}
      },
      "source": [
        "####################### Não apagar!\n",
        "lista_cadastro = ['codigo', 'cpf', 'nome_completo', 'data_de_nascimento',\n",
        "                  'estado', 'cidade', 'cep', 'bairro', 'rua', 'numero', 'complemento']\n",
        "\n",
        "lista_cadastrados = ['1', '11111111111', 'João Carlos', '12/12/90',\n",
        "                     'SC', 'Camboriú', '8833', 'Tabuleiro', 'Cerejeiras', '45', 'ap 101']\n",
        " \n",
        "lista_cadastrados1 = ['2', '22222222222', 'Paulo Roberto', '23/01/89',\n",
        "                      'SC', 'Blumenau', '99999', 'Velha', '7 de setembro', '55', '']\n",
        "####################### \n",
        "\n",
        "\n"
      ],
      "execution_count": 32,
      "outputs": []
    },
    {
      "cell_type": "markdown",
      "metadata": {
        "id": "6VH0yq-pPbU4",
        "colab_type": "text"
      },
      "source": [
        "5) Com as seguintes lista, transforme em uma string para poder gravar (futuramente) em um arquivo!\n"
      ]
    },
    {
      "cell_type": "code",
      "metadata": {
        "id": "pxJ6x4ZaPjZq",
        "colab_type": "code",
        "colab": {}
      },
      "source": [
        "####################### Não apagar!\n",
        "lista_cadastros = [['1', 'Arnaldo', '23', 'm', 'alexcabeludo2@hotmail.com', '014908648117'], ['2', 'Haroldo', '44', 'f', 'baratarebelde@gmail.com', '050923172729'], ['3', 'Pilar', '50', 'm', 'wanderson10sp@gmail.com', '018937341049'], ['4', 'Suzete Salvador', '45', 'f', 'eladiomp2@yahoo.com.br', '056928409823'], ['5', 'Riane', '37', 'f', 'orkutzimpower@terra.com.br', '018916004377'], ['6', 'Waldir', '34', 'f', 'nandah.s2@bol.com.br', '058903756441'], ['7', 'Lilian', '22', 'f', 'arydoido@gmail.com', '031958621596'], ['8', 'Matilde', '20', 'm', 'eu_kaka_@hotmail.com', '012941959390'], ['9', 'Samanta', '19', 'm', 'carro.tuning@yahoo.com.br', '028964480437'], ['10', 'Margarida', '30', 'm', 'paraaconta.08@hotmail.com', '047903547580'], ['11', 'Evelyn', '31', 'm', 'joaosilvaticudo@gmail.com', '053958638386'], ['12', 'Alessio', '29', 'm', 'w.nill02@gmail.com', '033961294774'], ['13', 'Yolanda', '25', 'm', 'patty_karen2005@hotmail.com', '027903312626'], ['14', 'Germana', '33', 'f', 'jarlinhatopdelinhagv@hotmail.com', '053964603415'], ['15', 'Helio', '33', 'f', 'juh.slim@gmail.com', '046997316461'], ['16', 'Liége', '21', 'f', 'gledsonlds@hotmail.com', '056992948431'], ['17', 'Yan', '42', 'm', 'lucapratto@yahoo.com.br', '016963562866'], ['18', 'Silvain', '50', 'f', 'hie.s2@hotmail.com', '021963399433'], ['19', 'Brian', '33', 'f', 'juliagabrielle06@hotmail.com', '027962676732'], ['20', 'Deoclides', '40', 'f', 'patriciamascena@gmail.com', '012961047979'], ['21', 'Jaqueline', '32', 'm', 'aninha183@hotmail.com', '014958997782'], ['22', 'Rosamaria', '45', 'f', 'j_leosao@hotmail.com', '026944672627'], ['23', 'Carla', '42', 'm', 'jhasdfjo@hotmail.com', '046976625208'], ['24', 'Aida Santos', '30', 'f', 'nayara.cristinap@hotmail.com', '034920819199'], ['25', 'Thomas', '19', 'm', 'jfdslinda@bol.com.br', '030974027667'], ['26', 'Naiara', '23', 'm', 'darknees_666@ig.com.br', '018976696717'], ['27', 'Karyne', '17', 'm', 'garotosonhador_1@hotmail.com', '054984689319'], ['28', 'Alenis Dias', '43', 'f', 'vi_vi_cristinaf@hotmail.com', '034980886309'], ['29', 'Grace', '38', 'm', 'amandakell@uol.com.br', '041932906720'], ['30', 'Zacarias', '31', 'm', 'loca.som@hotmail.com', '041926007066']]\n",
        "####################### \n",
        "\n"
      ],
      "execution_count": null,
      "outputs": []
    },
    {
      "cell_type": "markdown",
      "metadata": {
        "id": "Z6eNxUZHPqtl",
        "colab_type": "text"
      },
      "source": [
        "6) Crie uma função que solicite 5 nomes e retorne uma lista com todos eles"
      ]
    },
    {
      "cell_type": "code",
      "metadata": {
        "id": "CfEy8ri7PnUl",
        "colab_type": "code",
        "colab": {}
      },
      "source": [
        ""
      ],
      "execution_count": null,
      "outputs": []
    },
    {
      "cell_type": "markdown",
      "metadata": {
        "id": "5yIvF148Py2p",
        "colab_type": "text"
      },
      "source": [
        "7)  Com a lista \"Nomes\", feita no exercicio 6 (anterior) faça uma cópia para 'Nomes2' e adicione o nome \"Pedro Paulada\" no \"Nomes\" e \"Paulo Cacetada\" no \"Nomes2\""
      ]
    },
    {
      "cell_type": "code",
      "metadata": {
        "id": "h3swNLXiP6QC",
        "colab_type": "code",
        "colab": {}
      },
      "source": [
        ""
      ],
      "execution_count": null,
      "outputs": []
    },
    {
      "cell_type": "markdown",
      "metadata": {
        "id": "NirIm_AkP60j",
        "colab_type": "text"
      },
      "source": [
        "8) Com a lista 'lista_aninhada' faça uma cópia e nomeie como 'lista_aninhada_2'.\n",
        "\n",
        "Na lista_aninhada adicione ao lado do número 9 o número 10.\n",
        "\n",
        "Na lista_aninhada_2 adicione ao lado do número 8 a frase \"Aqui não pode ter o número 10!\""
      ]
    },
    {
      "cell_type": "code",
      "metadata": {
        "id": "tpPl04KvQQEg",
        "colab_type": "code",
        "colab": {}
      },
      "source": [
        "####################### Não apagar!\n",
        "lista_aninhada = [1,2,3,[4,5,[7,[9],8],6]]\n",
        "#######################\n",
        "\n",
        "\n"
      ],
      "execution_count": null,
      "outputs": []
    },
    {
      "cell_type": "markdown",
      "metadata": {
        "id": "AGPNS8raQPge",
        "colab_type": "text"
      },
      "source": [
        "9) Continuando o exercicio, adicione a lista Nomes (exercicio 6) na lista_aninhada entre os números 2 e o 3. \n",
        "\n",
        "Na lista_aninhada_2 adicione a \"Pedro Pedroca\" entre os números 4 e 5. \n",
        "\n",
        "Adicione na lista_aninhada, entre os números 1 e 2, a frase 'um, dois' e na lista_aninhada_2, entre os números 1 e 2 a frase 'Adiciono qualquer coisa em qualquer lugar nesta lista!'"
      ]
    },
    {
      "cell_type": "code",
      "metadata": {
        "id": "FUuNLjMnQmWj",
        "colab_type": "code",
        "colab": {}
      },
      "source": [
        ""
      ],
      "execution_count": null,
      "outputs": []
    },
    {
      "cell_type": "markdown",
      "metadata": {
        "id": "i60jA7y_Qm8Q",
        "colab_type": "text"
      },
      "source": [
        "10) Com a lista1, ordene os números de maior para menor!"
      ]
    },
    {
      "cell_type": "code",
      "metadata": {
        "id": "xUqhAu-oQ1KF",
        "colab_type": "code",
        "colab": {}
      },
      "source": [
        "####################### Não apagar!\n",
        "lista1 = lista_simples_int(100)\n",
        "####################### \n",
        "\n",
        "\n"
      ],
      "execution_count": null,
      "outputs": []
    },
    {
      "cell_type": "markdown",
      "metadata": {
        "id": "PS5o_MTPQ-CN",
        "colab_type": "text"
      },
      "source": [
        "11) Com a lista2, ordene os números de menor para maior!"
      ]
    },
    {
      "cell_type": "code",
      "metadata": {
        "id": "Rnsfdns3RAtc",
        "colab_type": "code",
        "colab": {}
      },
      "source": [
        "####################### Não apagar!\n",
        "lista2 = lista_simples_int(100)\n",
        "####################### \n",
        "\n",
        "\n"
      ],
      "execution_count": null,
      "outputs": []
    },
    {
      "cell_type": "markdown",
      "metadata": {
        "id": "W0P5hBF3RDbM",
        "colab_type": "text"
      },
      "source": [
        "12) Usando o metodo, adicione a lista1 e lista2 (já ordenadas no ex. 10 e 11) na lista0."
      ]
    },
    {
      "cell_type": "code",
      "metadata": {
        "id": "nBEdZ0GKRLtb",
        "colab_type": "code",
        "colab": {}
      },
      "source": [
        "####################### Não apagar!\n",
        "lista0 = []\n",
        "####################### \n",
        "\n",
        "\n"
      ],
      "execution_count": null,
      "outputs": []
    },
    {
      "cell_type": "markdown",
      "metadata": {
        "id": "G3zH1WSqRX7_",
        "colab_type": "text"
      },
      "source": [
        "13) Ordene a lista0 (ex. 12) e diga qual é o maior valor, menor valor e em quais das listas (lista1 ou lista2) estes pertencem."
      ]
    },
    {
      "cell_type": "code",
      "metadata": {
        "id": "s-AmohxPRXak",
        "colab_type": "code",
        "colab": {}
      },
      "source": [
        ""
      ],
      "execution_count": null,
      "outputs": []
    },
    {
      "cell_type": "markdown",
      "metadata": {
        "id": "BhnCiV_wRkzZ",
        "colab_type": "text"
      },
      "source": [
        "14) Com a lista_aninhada e lista_aninhada2, do exercicio 9, remova todas as alterações que nelas foram colocadas. Salve os dados removidos em uma lista e imprima na tela cada item em uma linha usando o f-string (use o .pop() )"
      ]
    },
    {
      "cell_type": "code",
      "metadata": {
        "id": "Ei1Yox4sRyBs",
        "colab_type": "code",
        "colab": {}
      },
      "source": [
        ""
      ],
      "execution_count": null,
      "outputs": []
    },
    {
      "cell_type": "markdown",
      "metadata": {
        "id": "OkAD-nMnRyiL",
        "colab_type": "text"
      },
      "source": [
        "15) Remova, usando o .remove(), os seguintes itens destas listas:"
      ]
    },
    {
      "cell_type": "code",
      "metadata": {
        "id": "Kx-qCa2jSBt1",
        "colab_type": "code",
        "colab": {}
      },
      "source": [
        "# Execute este código para gerar as listas\n",
        "lista_cadastro = ['codigo', 'cpf', 'nome_completo', 'data_de_nascimento',\n",
        "                  'estado', 'cidade', 'cep', 'bairro', 'rua', 'numero', 'complemento']\n",
        "\n",
        "lista_cadastrados = ['1', '11111111111', 'João Carlos', '12/12/90',\n",
        "                  'SC', 'Camboriú', '8833', 'Tabuleiro', 'Cerejeiras', '45', 'ap 101']\n",
        "\n",
        "lista_cadastrados1 = ['2', '22222222222', 'Paulo Roberto', '23/01/89',\n",
        "                  'SC', 'Blumenau', '99999', 'Velha', '7 de setembro', '55', '']"
      ],
      "execution_count": null,
      "outputs": []
    },
    {
      "cell_type": "markdown",
      "metadata": {
        "id": "ihdtBmhoSMe-",
        "colab_type": "text"
      },
      "source": [
        "15.1) cpf da lista_cadastro"
      ]
    },
    {
      "cell_type": "code",
      "metadata": {
        "id": "IBAQAdvvSY-X",
        "colab_type": "code",
        "colab": {}
      },
      "source": [
        ""
      ],
      "execution_count": null,
      "outputs": []
    },
    {
      "cell_type": "markdown",
      "metadata": {
        "id": "emJ-pT0BSPKN",
        "colab_type": "text"
      },
      "source": [
        "15.2) camboriú da lista_cadastrados"
      ]
    },
    {
      "cell_type": "code",
      "metadata": {
        "id": "vm1C9s1XSce3",
        "colab_type": "code",
        "colab": {}
      },
      "source": [
        ""
      ],
      "execution_count": null,
      "outputs": []
    },
    {
      "cell_type": "markdown",
      "metadata": {
        "id": "SHdYIhIwSPUV",
        "colab_type": "text"
      },
      "source": [
        "15.3) Paulo Roberto da lista_cadastrados1"
      ]
    },
    {
      "cell_type": "code",
      "metadata": {
        "id": "4Monb5opSfQx",
        "colab_type": "code",
        "colab": {}
      },
      "source": [
        ""
      ],
      "execution_count": null,
      "outputs": []
    },
    {
      "cell_type": "markdown",
      "metadata": {
        "id": "e6d4c8H9SPe7",
        "colab_type": "text"
      },
      "source": [
        "15.4) rua"
      ]
    },
    {
      "cell_type": "code",
      "metadata": {
        "id": "IKCptzIqSiEF",
        "colab_type": "code",
        "colab": {}
      },
      "source": [
        ""
      ],
      "execution_count": null,
      "outputs": []
    },
    {
      "cell_type": "markdown",
      "metadata": {
        "id": "7hsTJXqySPoi",
        "colab_type": "text"
      },
      "source": [
        "15.5) 8833 "
      ]
    },
    {
      "cell_type": "code",
      "metadata": {
        "id": "6TPP0aq1SkYl",
        "colab_type": "code",
        "colab": {}
      },
      "source": [
        ""
      ],
      "execution_count": null,
      "outputs": []
    },
    {
      "cell_type": "markdown",
      "metadata": {
        "id": "IQ-gR0_hSPzA",
        "colab_type": "text"
      },
      "source": [
        "15.6) Velha"
      ]
    },
    {
      "cell_type": "code",
      "metadata": {
        "id": "2jJ0RRKRSwHj",
        "colab_type": "code",
        "colab": {}
      },
      "source": [
        ""
      ],
      "execution_count": null,
      "outputs": []
    },
    {
      "cell_type": "markdown",
      "metadata": {
        "id": "bM7aY7w4SQHQ",
        "colab_type": "text"
      },
      "source": [
        "15.7) João Carlos"
      ]
    },
    {
      "cell_type": "code",
      "metadata": {
        "id": "791JpV0aSxBU",
        "colab_type": "code",
        "colab": {}
      },
      "source": [
        ""
      ],
      "execution_count": null,
      "outputs": []
    },
    {
      "cell_type": "markdown",
      "metadata": {
        "id": "skDYuRbSSQQ3",
        "colab_type": "text"
      },
      "source": [
        "15.8) 11111111111"
      ]
    },
    {
      "cell_type": "code",
      "metadata": {
        "id": "7BFKlbHvSxlT",
        "colab_type": "code",
        "colab": {}
      },
      "source": [
        ""
      ],
      "execution_count": null,
      "outputs": []
    },
    {
      "cell_type": "markdown",
      "metadata": {
        "id": "L8IScxT4SQcH",
        "colab_type": "text"
      },
      "source": [
        "15.9) cidade"
      ]
    },
    {
      "cell_type": "code",
      "metadata": {
        "id": "D1aiNHE0SyDG",
        "colab_type": "code",
        "colab": {}
      },
      "source": [
        ""
      ],
      "execution_count": null,
      "outputs": []
    },
    {
      "cell_type": "markdown",
      "metadata": {
        "id": "FXtl7tIaSP8o",
        "colab_type": "text"
      },
      "source": [
        "15.10) data_de_nascimento"
      ]
    },
    {
      "cell_type": "code",
      "metadata": {
        "id": "VvB9nnUiSzBm",
        "colab_type": "code",
        "colab": {}
      },
      "source": [
        ""
      ],
      "execution_count": null,
      "outputs": []
    },
    {
      "cell_type": "markdown",
      "metadata": {
        "id": "HNfFEV_USz-Y",
        "colab_type": "text"
      },
      "source": [
        "16) Com a lista_fusao mostre com f-strig e o metodo .index() a posição dos seguintes elementos:"
      ]
    },
    {
      "cell_type": "code",
      "metadata": {
        "id": "SIoln31OTFsy",
        "colab_type": "code",
        "colab": {}
      },
      "source": [
        "# Execute este código para gerar as listas\n",
        "lista_fusao = ['codigo', 'cpf', 'nome_completo', 'data_de_nascimento',\n",
        "                  'estado', 'cidade', 'cep', 'bairro', 'rua', 'numero', 'complemento',\n",
        "                  '1', '11111111111', 'João Carlos', '12/12/90',\n",
        "                  'SC', 'Camboriú', '8833', 'Tabuleiro', 'Cerejeiras', '45', 'ap 101',\n",
        "                  '2', '22222222222', 'Paulo Roberto', '23/01/89',\n",
        "                  'SC', 'Blumenau', '99999', 'Velha', '7 de setembro', '55', '']"
      ],
      "execution_count": null,
      "outputs": []
    },
    {
      "cell_type": "markdown",
      "metadata": {
        "id": "OhI_7fniTJ8r",
        "colab_type": "text"
      },
      "source": [
        "16.1) cidade"
      ]
    },
    {
      "cell_type": "code",
      "metadata": {
        "id": "Uha3YYzhTI2h",
        "colab_type": "code",
        "colab": {}
      },
      "source": [
        ""
      ],
      "execution_count": null,
      "outputs": []
    },
    {
      "cell_type": "markdown",
      "metadata": {
        "id": "3rIog7NWTLHO",
        "colab_type": "text"
      },
      "source": [
        "16.2) João Carlos"
      ]
    },
    {
      "cell_type": "code",
      "metadata": {
        "id": "grhxiSiOTI-I",
        "colab_type": "code",
        "colab": {}
      },
      "source": [
        ""
      ],
      "execution_count": null,
      "outputs": []
    },
    {
      "cell_type": "markdown",
      "metadata": {
        "id": "EPQkqFCQTSXH",
        "colab_type": "text"
      },
      "source": [
        "16.3) Camboriú"
      ]
    },
    {
      "cell_type": "code",
      "metadata": {
        "id": "lw9l5dLWTmMD",
        "colab_type": "code",
        "colab": {}
      },
      "source": [
        ""
      ],
      "execution_count": null,
      "outputs": []
    },
    {
      "cell_type": "markdown",
      "metadata": {
        "id": "TplXxTGFTTg8",
        "colab_type": "text"
      },
      "source": [
        "16.4) 12/12/90"
      ]
    },
    {
      "cell_type": "code",
      "metadata": {
        "id": "9fXy953MTmjs",
        "colab_type": "code",
        "colab": {}
      },
      "source": [
        ""
      ],
      "execution_count": null,
      "outputs": []
    },
    {
      "cell_type": "markdown",
      "metadata": {
        "id": "u0loYJ6ATTtv",
        "colab_type": "text"
      },
      "source": [
        "16.5) 99999"
      ]
    },
    {
      "cell_type": "code",
      "metadata": {
        "id": "cy8awWKMTm5T",
        "colab_type": "code",
        "colab": {}
      },
      "source": [
        ""
      ],
      "execution_count": null,
      "outputs": []
    },
    {
      "cell_type": "markdown",
      "metadata": {
        "id": "PhlPai-yTT5f",
        "colab_type": "text"
      },
      "source": [
        "16.6) nome_completo"
      ]
    },
    {
      "cell_type": "code",
      "metadata": {
        "id": "YU2xUME3TnP8",
        "colab_type": "code",
        "colab": {}
      },
      "source": [
        ""
      ],
      "execution_count": null,
      "outputs": []
    },
    {
      "cell_type": "markdown",
      "metadata": {
        "id": "MmvO3yNvTUGD",
        "colab_type": "text"
      },
      "source": [
        "16.7) 22222222222"
      ]
    },
    {
      "cell_type": "code",
      "metadata": {
        "id": "CLkjlyB9Tnmb",
        "colab_type": "code",
        "colab": {}
      },
      "source": [
        ""
      ],
      "execution_count": null,
      "outputs": []
    },
    {
      "cell_type": "markdown",
      "metadata": {
        "id": "i-7j6bSgTUSh",
        "colab_type": "text"
      },
      "source": [
        "16.8) Tabuleiro"
      ]
    },
    {
      "cell_type": "code",
      "metadata": {
        "id": "elC5snOFTn9w",
        "colab_type": "code",
        "colab": {}
      },
      "source": [
        ""
      ],
      "execution_count": null,
      "outputs": []
    },
    {
      "cell_type": "markdown",
      "metadata": {
        "id": "k1qyRd1nTUef",
        "colab_type": "text"
      },
      "source": [
        "16.9) numero\n"
      ]
    },
    {
      "cell_type": "code",
      "metadata": {
        "id": "qLjgXKUEToUq",
        "colab_type": "code",
        "colab": {}
      },
      "source": [
        ""
      ],
      "execution_count": null,
      "outputs": []
    },
    {
      "cell_type": "markdown",
      "metadata": {
        "id": "35G_BcGFUAPK",
        "colab_type": "text"
      },
      "source": [
        "17) Usando o metodo .index(), Crie uma função que localize a posição dos seguintes nomes: \n",
        "\n",
        "Germana, Deoclides, Zacarias, Karyne, Helio, Silvain, Aida Santos\n",
        "\n",
        "Esta função deve receber como parametro a lista_cadastros e o nome. Deve retornar uma lista contendo o endereço do nome na lista_cadastros. \n",
        "\n",
        "Exemplo:\n",
        "```\n",
        ">>> lista = localize(lista_cadastros,'Alenis Dias')\n",
        ">>> lista_cadastros[ lista[0] ][ lista[1] ]\n",
        "'Alenis Dias'\n",
        "```\n",
        "Dica: Use o tratamento de ecessões para evitar erro ao procurar um indice que não existe!"
      ]
    },
    {
      "cell_type": "code",
      "metadata": {
        "id": "WlmPsT1kUVbQ",
        "colab_type": "code",
        "colab": {}
      },
      "source": [
        "####################### Não apagar!\n",
        "lista_cadastros = [['1', 'Arnaldo', '23', 'm', 'alexcabeludo2@hotmail.com', '014908648117'], ['2', 'Haroldo', '44', 'f', 'baratarebelde@gmail.com', '050923172729'], ['3', 'Pilar', '50', 'm', 'wanderson10sp@gmail.com', '018937341049'], ['4', 'Suzete Salvador', '45', 'f', 'eladiomp2@yahoo.com.br', '056928409823'], ['5', 'Riane', '37', 'f', 'orkutzimpower@terra.com.br', '018916004377'], ['6', 'Waldir', '34', 'f', 'nandah.s2@bol.com.br', '058903756441'], ['7', 'Lilian', '22', 'f', 'arydoido@gmail.com', '031958621596'], ['8', 'Matilde', '20', 'm', 'eu_kaka_@hotmail.com', '012941959390'], ['9', 'Samanta', '19', 'm', 'carro.tuning@yahoo.com.br', '028964480437'], ['10', 'Margarida', '30', 'm', 'paraaconta.08@hotmail.com', '047903547580'], ['11', 'Evelyn', '31', 'm', 'joaosilvaticudo@gmail.com', '053958638386'], ['12', 'Alessio', '29', 'm', 'w.nill02@gmail.com', '033961294774'], ['13', 'Yolanda', '25', 'm', 'patty_karen2005@hotmail.com', '027903312626'], ['14', 'Germana', '33', 'f', 'jarlinhatopdelinhagv@hotmail.com', '053964603415'], ['15', 'Helio', '33', 'f', 'juh.slim@gmail.com', '046997316461'], ['16', 'Liége', '21', 'f', 'gledsonlds@hotmail.com', '056992948431'], ['17', 'Yan', '42', 'm', 'lucapratto@yahoo.com.br', '016963562866'], ['18', 'Silvain', '50', 'f', 'hie.s2@hotmail.com', '021963399433'], ['19', 'Brian', '33', 'f', 'juliagabrielle06@hotmail.com', '027962676732'], ['20', 'Deoclides', '40', 'f', 'patriciamascena@gmail.com', '012961047979'], ['21', 'Jaqueline', '32', 'm', 'aninha183@hotmail.com', '014958997782'], ['22', 'Rosamaria', '45', 'f', 'j_leosao@hotmail.com', '026944672627'], ['23', 'Carla', '42', 'm', 'jhasdfjo@hotmail.com', '046976625208'], ['24', 'Aida Santos', '30', 'f', 'nayara.cristinap@hotmail.com', '034920819199'], ['25', 'Thomas', '19', 'm', 'jfdslinda@bol.com.br', '030974027667'], ['26', 'Naiara', '23', 'm', 'darknees_666@ig.com.br', '018976696717'], ['27', 'Karyne', '17', 'm', 'garotosonhador_1@hotmail.com', '054984689319'], ['28', 'Alenis Dias', '43', 'f', 'vi_vi_cristinaf@hotmail.com', '034980886309'], ['29', 'Grace', '38', 'm', 'amandakell@uol.com.br', '041932906720'], ['30', 'Zacarias', '31', 'm', 'loca.som@hotmail.com', '041926007066']]\n",
        "####################### \n",
        "\n",
        "\n"
      ],
      "execution_count": null,
      "outputs": []
    },
    {
      "cell_type": "markdown",
      "metadata": {
        "id": "KIogJMjfUb0D",
        "colab_type": "text"
      },
      "source": [
        "18) Conte na lista1 a quantidade dos seguintes valores (use o f-string):"
      ]
    },
    {
      "cell_type": "code",
      "metadata": {
        "id": "maqJbdHNUa7A",
        "colab_type": "code",
        "colab": {}
      },
      "source": [
        "# Execute este código para gerar as listas\n",
        "lista1 = lista_simples_int(10000)"
      ],
      "execution_count": null,
      "outputs": []
    },
    {
      "cell_type": "markdown",
      "metadata": {
        "id": "Ch5IMmTKU9Gb",
        "colab_type": "text"
      },
      "source": [
        "18.1) 4529"
      ]
    },
    {
      "cell_type": "code",
      "metadata": {
        "id": "D6hmy3oDVdbg",
        "colab_type": "code",
        "colab": {}
      },
      "source": [
        ""
      ],
      "execution_count": null,
      "outputs": []
    },
    {
      "cell_type": "markdown",
      "metadata": {
        "id": "UYihHD7LVB8C",
        "colab_type": "text"
      },
      "source": [
        "18.2) 29"
      ]
    },
    {
      "cell_type": "code",
      "metadata": {
        "id": "e995iIQCVd1X",
        "colab_type": "code",
        "colab": {}
      },
      "source": [
        ""
      ],
      "execution_count": null,
      "outputs": []
    },
    {
      "cell_type": "markdown",
      "metadata": {
        "id": "gXnvXQhGVDEf",
        "colab_type": "text"
      },
      "source": [
        "18.3) 1107"
      ]
    },
    {
      "cell_type": "code",
      "metadata": {
        "id": "uti4Z_R4VeJs",
        "colab_type": "code",
        "colab": {}
      },
      "source": [
        ""
      ],
      "execution_count": null,
      "outputs": []
    },
    {
      "cell_type": "markdown",
      "metadata": {
        "id": "o58yDMWiVDSE",
        "colab_type": "text"
      },
      "source": [
        "18.4) 7927"
      ]
    },
    {
      "cell_type": "code",
      "metadata": {
        "id": "Qp5t3Oh4VeW5",
        "colab_type": "code",
        "colab": {}
      },
      "source": [
        ""
      ],
      "execution_count": null,
      "outputs": []
    },
    {
      "cell_type": "markdown",
      "metadata": {
        "id": "9INymdQBVC0e",
        "colab_type": "text"
      },
      "source": [
        "18.5) 6967"
      ]
    },
    {
      "cell_type": "code",
      "metadata": {
        "id": "7XvAx0DfVekP",
        "colab_type": "code",
        "colab": {}
      },
      "source": [
        ""
      ],
      "execution_count": null,
      "outputs": []
    },
    {
      "cell_type": "markdown",
      "metadata": {
        "id": "5lG-O5E6VDfa",
        "colab_type": "text"
      },
      "source": [
        "18.6) 5964"
      ]
    },
    {
      "cell_type": "code",
      "metadata": {
        "id": "MUenfaofVezL",
        "colab_type": "code",
        "colab": {}
      },
      "source": [
        ""
      ],
      "execution_count": null,
      "outputs": []
    },
    {
      "cell_type": "markdown",
      "metadata": {
        "id": "mFjxxMPqVDtR",
        "colab_type": "text"
      },
      "source": [
        "18.7) 8893"
      ]
    },
    {
      "cell_type": "code",
      "metadata": {
        "id": "IVMfiGANVfA6",
        "colab_type": "code",
        "colab": {}
      },
      "source": [
        ""
      ],
      "execution_count": null,
      "outputs": []
    },
    {
      "cell_type": "markdown",
      "metadata": {
        "id": "yyQSnBB5VD5U",
        "colab_type": "text"
      },
      "source": [
        "18.8) 3972"
      ]
    },
    {
      "cell_type": "code",
      "metadata": {
        "id": "FeQtcfBeVfQO",
        "colab_type": "code",
        "colab": {}
      },
      "source": [
        ""
      ],
      "execution_count": null,
      "outputs": []
    },
    {
      "cell_type": "markdown",
      "metadata": {
        "id": "D37KSSUDVEHN",
        "colab_type": "text"
      },
      "source": [
        "18.9) 10"
      ]
    },
    {
      "cell_type": "code",
      "metadata": {
        "id": "ifUhx4N0VfhJ",
        "colab_type": "code",
        "colab": {}
      },
      "source": [
        ""
      ],
      "execution_count": null,
      "outputs": []
    },
    {
      "cell_type": "markdown",
      "metadata": {
        "id": "0zZI8F4nVEUf",
        "colab_type": "text"
      },
      "source": [
        "18.10) 8214"
      ]
    },
    {
      "cell_type": "code",
      "metadata": {
        "id": "K-oKspSoVbm4",
        "colab_type": "code",
        "colab": {}
      },
      "source": [
        ""
      ],
      "execution_count": null,
      "outputs": []
    },
    {
      "cell_type": "markdown",
      "metadata": {
        "id": "oR77fUjRVgzR",
        "colab_type": "text"
      },
      "source": [
        "19) Um numero binário, localizado em uma lista 'listabin', necessita ser convertido em número decimal.\n",
        "\n",
        "Faça uma função que converta o número binário e retorne o número em decimal. Imprima na tela o número binário e o resultado. (use o .reverte())"
      ]
    },
    {
      "cell_type": "code",
      "metadata": {
        "id": "bg3bVLGFV0Wy",
        "colab_type": "code",
        "colab": {}
      },
      "source": [
        "####################### Não apagar!\n",
        "listabin = binario()\n",
        "####################### \n",
        "\n",
        "\n"
      ],
      "execution_count": null,
      "outputs": []
    },
    {
      "cell_type": "markdown",
      "metadata": {
        "id": "xvd4ohLSV3TT",
        "colab_type": "text"
      },
      "source": [
        "20) com as seguintes listas, imprima elas e .reverte() suas posições. Some as posições e retorne a lista com as somas.\n",
        "\n",
        "Exemplo:\n",
        "\n",
        "```\n",
        ">>> lista1        = [42,3, 1, 4]\n",
        ">>> lista_reversa = [4, 1, 3, 42]\n",
        ">>> lista_soma    = [46,4, 4, 46]\n",
        "```"
      ]
    },
    {
      "cell_type": "markdown",
      "metadata": {
        "id": "x8HqU0krWXrZ",
        "colab_type": "text"
      },
      "source": [
        "20.1) lista1"
      ]
    },
    {
      "cell_type": "code",
      "metadata": {
        "id": "_ntpPTsNWolA",
        "colab_type": "code",
        "colab": {}
      },
      "source": [
        "####################### Não apagar!\n",
        "lista1 = lista_simples_int(8)\n",
        "####################### \n",
        "\n",
        "\n"
      ],
      "execution_count": null,
      "outputs": []
    },
    {
      "cell_type": "markdown",
      "metadata": {
        "id": "jfA1p_0AWX3f",
        "colab_type": "text"
      },
      "source": [
        "20.2) lista2"
      ]
    },
    {
      "cell_type": "code",
      "metadata": {
        "id": "6bPdwD2zWvb7",
        "colab_type": "code",
        "colab": {}
      },
      "source": [
        "####################### Não apagar!\n",
        "lista2 = lista_simples_int(8)\n",
        "####################### \n",
        "\n",
        "\n"
      ],
      "execution_count": null,
      "outputs": []
    },
    {
      "cell_type": "markdown",
      "metadata": {
        "id": "euLqTXp8WX_0",
        "colab_type": "text"
      },
      "source": [
        "20.3) lista3"
      ]
    },
    {
      "cell_type": "code",
      "metadata": {
        "id": "-If81WN9Wwd3",
        "colab_type": "code",
        "colab": {}
      },
      "source": [
        "####################### Não apagar!\n",
        "lista3 = lista_simples_int(8)\n",
        "####################### \n",
        "\n",
        "\n"
      ],
      "execution_count": null,
      "outputs": []
    },
    {
      "cell_type": "markdown",
      "metadata": {
        "id": "f4rR_MHXWYOZ",
        "colab_type": "text"
      },
      "source": [
        "20.4) lista4"
      ]
    },
    {
      "cell_type": "code",
      "metadata": {
        "id": "mYmkFyhZWyGt",
        "colab_type": "code",
        "colab": {}
      },
      "source": [
        "####################### Não apagar!\n",
        "lista4 = lista_simples_int(8)\n",
        "####################### \n",
        "\n",
        "\n"
      ],
      "execution_count": null,
      "outputs": []
    },
    {
      "cell_type": "markdown",
      "metadata": {
        "id": "tprla7GgWYd_",
        "colab_type": "text"
      },
      "source": [
        "20.5) lista5"
      ]
    },
    {
      "cell_type": "code",
      "metadata": {
        "id": "D99_DRFQW2Uy",
        "colab_type": "code",
        "colab": {}
      },
      "source": [
        "####################### Não apagar!\n",
        "lista5 = lista_simples_int(8)\n",
        "####################### \n",
        "\n",
        "\n"
      ],
      "execution_count": null,
      "outputs": []
    },
    {
      "cell_type": "markdown",
      "metadata": {
        "id": "sVPK-ZZSXblm",
        "colab_type": "text"
      },
      "source": [
        "21) Com um comando .clear()  apague as seguintes informações:"
      ]
    },
    {
      "cell_type": "markdown",
      "metadata": {
        "id": "wn--lOXgXfBc",
        "colab_type": "text"
      },
      "source": [
        "21.1) apague toda a lista"
      ]
    },
    {
      "cell_type": "code",
      "metadata": {
        "id": "1km0dLj3XfY8",
        "colab_type": "code",
        "colab": {}
      },
      "source": [
        "####################### Não apagar!\n",
        "lista_aninhada = [1, 2, 3, [4, 5, [1, 2, 3, [4, 5, [7, [9], 8], 6]], 6]]\n",
        "####################### \n",
        "\n",
        "\n"
      ],
      "execution_count": null,
      "outputs": []
    },
    {
      "cell_type": "markdown",
      "metadata": {
        "id": "OJyPCknXXgFU",
        "colab_type": "text"
      },
      "source": [
        "21.2)  apague somente: [4, 5, [1, 2, 3, [4, 5, [7, [9], 8], 6]], 6]"
      ]
    },
    {
      "cell_type": "code",
      "metadata": {
        "id": "IPZwIxw3XgU9",
        "colab_type": "code",
        "colab": {}
      },
      "source": [
        "####################### Não apagar!\n",
        "lista_aninhada = [1, 2, 3, [4, 5, [1, 2, 3, [4, 5, [7, [9], 8], 6]], 6]]\n",
        "####################### \n",
        "\n",
        "\n"
      ],
      "execution_count": null,
      "outputs": []
    },
    {
      "cell_type": "markdown",
      "metadata": {
        "id": "3jTiBeAFXgle",
        "colab_type": "text"
      },
      "source": [
        "21.3) [4, 5, [7, [9], 8], 6]"
      ]
    },
    {
      "cell_type": "code",
      "metadata": {
        "id": "qv8LoapEXg3E",
        "colab_type": "code",
        "colab": {}
      },
      "source": [
        "####################### Não apagar!\n",
        "lista_aninhada = [1, 2, 3, [4, 5, [1, 2, 3, [4, 5, [7, [9], 8], 6]], 6]]\n",
        "####################### \n",
        "\n",
        "\n"
      ],
      "execution_count": null,
      "outputs": []
    },
    {
      "cell_type": "markdown",
      "metadata": {
        "id": "QAX1UM6JXhFL",
        "colab_type": "text"
      },
      "source": [
        "21.4)  [7, [9], 8]"
      ]
    },
    {
      "cell_type": "code",
      "metadata": {
        "id": "bupYX3LRXhSP",
        "colab_type": "code",
        "colab": {}
      },
      "source": [
        "####################### Não apagar!\n",
        "lista_aninhada = [1, 2, 3, [4, 5, [1, 2, 3, [4, 5, [7, [9], 8], 6]], 6]]\n",
        "####################### \n",
        "\n",
        "\n"
      ],
      "execution_count": null,
      "outputs": []
    },
    {
      "cell_type": "markdown",
      "metadata": {
        "id": "ySRPY46kXjFI",
        "colab_type": "text"
      },
      "source": [
        "21.5) 5,6"
      ]
    },
    {
      "cell_type": "code",
      "metadata": {
        "id": "oyPa3y4vXhmn",
        "colab_type": "code",
        "colab": {}
      },
      "source": [
        "####################### Não apagar!\n",
        "lista_aninhada = [[1,2],[3,4],[5,6],[7,8],[9,10]]\n",
        "####################### \n",
        "\n",
        "\n"
      ],
      "execution_count": null,
      "outputs": []
    },
    {
      "cell_type": "markdown",
      "metadata": {
        "id": "A_zq9FV6Xhcq",
        "colab_type": "text"
      },
      "source": [
        "21.6) 9,10"
      ]
    },
    {
      "cell_type": "code",
      "metadata": {
        "id": "p71ojIEpXkWD",
        "colab_type": "code",
        "colab": {}
      },
      "source": [
        "####################### Não apagar!\n",
        "lista_aninhada = [[1,2],[3,4],[5,6],[7,8],[9,10]]\n",
        "####################### \n",
        "\n",
        "\n"
      ],
      "execution_count": null,
      "outputs": []
    },
    {
      "cell_type": "markdown",
      "metadata": {
        "id": "qDhNZY3NYJdR",
        "colab_type": "text"
      },
      "source": [
        "\n",
        "\n",
        "---\n",
        "\n"
      ]
    },
    {
      "cell_type": "markdown",
      "metadata": {
        "id": "Qpg993zxYKSG",
        "colab_type": "text"
      },
      "source": [
        "# **NÂO OBRIGATÓRIA - Para os alunos avançados!**\n",
        "\n",
        "Com esta lista embaralhada... nem Zeus sabe o que tem nela!"
      ]
    },
    {
      "cell_type": "code",
      "metadata": {
        "id": "udGDJzQmYa7z",
        "colab_type": "code",
        "colab": {}
      },
      "source": [
        "lista = embaralhar_int_str_hard(randint(3,20),randint(10,50))\n",
        "\n",
        "#Olhá só que encrenca:\n",
        "\n",
        "for i in lista:\n",
        "    print('\\n',i)"
      ],
      "execution_count": null,
      "outputs": []
    },
    {
      "cell_type": "markdown",
      "metadata": {
        "id": "QcYWwxqQYT6T",
        "colab_type": "text"
      },
      "source": [
        "21) Crie um algoritmo que verifique se todas as listas dentro da \"lista\" são iguais ou são elas mesmas!\n",
        "\n",
        "No final, quantas listas são somente iguais e quantas listas são as mesmas.\n",
        "\n",
        "Mostre tambem os indices das listas que são eles mesnos (is) e os indices das listas que são somente iguais\n",
        "\n",
        "**Boa sorte!**"
      ]
    },
    {
      "cell_type": "code",
      "metadata": {
        "id": "6iYaK95IZB3g",
        "colab_type": "code",
        "colab": {}
      },
      "source": [
        "####################### Não apagar!\n",
        "lista = embaralhar_int_str_hard(randint(3,20),randint(10,50))\n",
        "####################### \n",
        "\n",
        "\n"
      ],
      "execution_count": null,
      "outputs": []
    }
  ]
}