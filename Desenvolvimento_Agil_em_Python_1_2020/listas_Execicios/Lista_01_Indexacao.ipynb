{
  "nbformat": 4,
  "nbformat_minor": 0,
  "metadata": {
    "colab": {
      "name": "Lista 01 Indexacao.ipynb",
      "provenance": [],
      "collapsed_sections": []
    },
    "kernelspec": {
      "name": "python3",
      "display_name": "Python 3"
    }
  },
  "cells": [
    {
      "cell_type": "markdown",
      "metadata": {
        "id": "w2VSNl3vHO8a",
        "colab_type": "text"
      },
      "source": [
        "#**LISTAS E METODOS**\n",
        "\n"
      ]
    },
    {
      "cell_type": "markdown",
      "metadata": {
        "id": "fUlR63jNHsmr",
        "colab_type": "text"
      },
      "source": [
        "  **Indexação**\n",
        "  <br><br>\n",
        "  É a forma usada para recuperar parte da lista usando indices. <br>\n",
        "  <br>\n",
        "  lista[ inicio : fim : interação ]<br>\n",
        "  Inicio: Inicio da lista, começa com 0\n",
        "  Fim: Fin da lista. Lembrando que pega o valor anterior.\n",
        "  Interação: De quanto a quando"
      ]
    },
    {
      "cell_type": "code",
      "metadata": {
        "id": "5iKLxyfAHOCL",
        "colab_type": "code",
        "colab": {
          "base_uri": "https://localhost:8080/",
          "height": 34
        },
        "outputId": "5f464fe0-a2ea-4c25-9d51-a3ea66d5fedd"
      },
      "source": [
        "lista = [6,7,8,9,10,11,12,13]\n",
        "# Pegando o primeiro elemento\n",
        "print(lista[0])"
      ],
      "execution_count": null,
      "outputs": [
        {
          "output_type": "stream",
          "text": [
            "6\n"
          ],
          "name": "stdout"
        }
      ]
    },
    {
      "cell_type": "code",
      "metadata": {
        "id": "79pfVefqI55z",
        "colab_type": "code",
        "colab": {
          "base_uri": "https://localhost:8080/",
          "height": 34
        },
        "outputId": "4d5a0e9d-e06d-4ace-9f98-732cd43a8ce7"
      },
      "source": [
        "# Pegando o terceio elemento\n",
        "print(lista[2])"
      ],
      "execution_count": null,
      "outputs": [
        {
          "output_type": "stream",
          "text": [
            "8\n"
          ],
          "name": "stdout"
        }
      ]
    },
    {
      "cell_type": "code",
      "metadata": {
        "id": "1ui2JJpGKFXn",
        "colab_type": "code",
        "colab": {
          "base_uri": "https://localhost:8080/",
          "height": 34
        },
        "outputId": "8f1f65e4-705e-4b77-921a-fadd256b4508"
      },
      "source": [
        "# Pegando o iltimo elemento\n",
        "print(lista[-1])"
      ],
      "execution_count": null,
      "outputs": [
        {
          "output_type": "stream",
          "text": [
            "13\n"
          ],
          "name": "stdout"
        }
      ]
    },
    {
      "cell_type": "code",
      "metadata": {
        "id": "IQ9hTrYKJybS",
        "colab_type": "code",
        "colab": {}
      },
      "source": [
        "# Pegar todos os números a partir do terceio elemento\n",
        "print(lista[2:])"
      ],
      "execution_count": null,
      "outputs": []
    },
    {
      "cell_type": "code",
      "metadata": {
        "id": "aWaeDzgVJFOi",
        "colab_type": "code",
        "colab": {}
      },
      "source": [
        "# Pegando o número 7 a 10\n",
        "print(lista[1:5])"
      ],
      "execution_count": null,
      "outputs": []
    },
    {
      "cell_type": "code",
      "metadata": {
        "id": "hGkhrVSKJV47",
        "colab_type": "code",
        "colab": {}
      },
      "source": [
        "# Pegando números de 2 em dois e 3 em 3\n",
        "print(lista[::2])\n",
        "print(lista[::3])"
      ],
      "execution_count": null,
      "outputs": []
    },
    {
      "cell_type": "code",
      "metadata": {
        "id": "0IsrOn7fJ-DJ",
        "colab_type": "code",
        "colab": {}
      },
      "source": [
        "# Inverter a lista\n",
        "print(lista[::-1])"
      ],
      "execution_count": null,
      "outputs": []
    },
    {
      "cell_type": "markdown",
      "metadata": {
        "id": "kzML6aPfKX_F",
        "colab_type": "text"
      },
      "source": [
        "Sabia que isso também funciona com strig!"
      ]
    },
    {
      "cell_type": "code",
      "metadata": {
        "id": "lu5f4XlTKVUA",
        "colab_type": "code",
        "colab": {}
      },
      "source": [
        "texto = \"Atirei o pau no gato\"\n",
        "print(texto[2:10])\n",
        "print(texto[::-1])"
      ],
      "execution_count": null,
      "outputs": []
    },
    {
      "cell_type": "markdown",
      "metadata": {
        "id": "3BotHU1EKzdc",
        "colab_type": "text"
      },
      "source": [
        "**Exercícios**"
      ]
    },
    {
      "cell_type": "markdown",
      "metadata": {
        "id": "p_0P30cULGha",
        "colab_type": "text"
      },
      "source": [
        "Dada a seguinte lista, resolva os seguintes questões:\n",
        "\n"
      ]
    },
    {
      "cell_type": "code",
      "metadata": {
        "id": "Pt0pWX3dLUl9",
        "colab_type": "code",
        "colab": {}
      },
      "source": [
        "lista = [10, 20, 'amor', 'abacaxi', 80, 'Abioluz', 'Cachorro grande é de arrasar']"
      ],
      "execution_count": null,
      "outputs": []
    },
    {
      "cell_type": "markdown",
      "metadata": {
        "id": "ZMeql6XELZJW",
        "colab_type": "text"
      },
      "source": [
        "1: Usando a indexação, escreva na tela a palavra abacaxi"
      ]
    },
    {
      "cell_type": "code",
      "metadata": {
        "id": "6P7VnRQaLVrQ",
        "colab_type": "code",
        "colab": {}
      },
      "source": [
        ""
      ],
      "execution_count": null,
      "outputs": []
    },
    {
      "cell_type": "markdown",
      "metadata": {
        "id": "vTYG1zdjLcW-",
        "colab_type": "text"
      },
      "source": [
        "2: Usando a indexação, escreva na tela os seguintes dados: 20, amor, abacaxi"
      ]
    },
    {
      "cell_type": "code",
      "metadata": {
        "id": "AGyJZ0D8LfLT",
        "colab_type": "code",
        "colab": {}
      },
      "source": [
        ""
      ],
      "execution_count": null,
      "outputs": []
    },
    {
      "cell_type": "markdown",
      "metadata": {
        "id": "Xablhp5XLfsd",
        "colab_type": "text"
      },
      "source": [
        "3: Usando a indexação, escreva na tela uma lista com dados de 20 até Abioluz\n"
      ]
    },
    {
      "cell_type": "code",
      "metadata": {
        "id": "zQTCPuZ2Lmeo",
        "colab_type": "code",
        "colab": {}
      },
      "source": [
        ""
      ],
      "execution_count": null,
      "outputs": []
    },
    {
      "cell_type": "markdown",
      "metadata": {
        "id": "HZTUUn64Lm-4",
        "colab_type": "text"
      },
      "source": [
        "4: Usando a indexação, escreva na tela uma lista com os seguintes dados:<br><br>\n",
        "Cachorro grande é de arrasar, Abioluz, 80, abacaxi, amor, 20, 10"
      ]
    },
    {
      "cell_type": "code",
      "metadata": {
        "id": "CJHaP7ObLwys",
        "colab_type": "code",
        "colab": {}
      },
      "source": [
        ""
      ],
      "execution_count": null,
      "outputs": []
    },
    {
      "cell_type": "markdown",
      "metadata": {
        "id": "631qVmo7L1Bw",
        "colab_type": "text"
      },
      "source": [
        "5: Usando o f-string e a indexação escreva na tela os seguintes dados:<br><br>\n",
        "**abacaxi** é muito bom, sinto muito **amor** quando eu chupo **80** deles."
      ]
    },
    {
      "cell_type": "code",
      "metadata": {
        "id": "Khs4jl3WMh8l",
        "colab_type": "code",
        "colab": {}
      },
      "source": [
        ""
      ],
      "execution_count": null,
      "outputs": []
    },
    {
      "cell_type": "markdown",
      "metadata": {
        "id": "Uc2ZReXgL2X3",
        "colab_type": "text"
      },
      "source": [
        "6: Usando a indexação, escreva na tela os seguintes dados:<br><br>\n",
        "10, amor, 80, Cachorro grande é de arrasar"
      ]
    },
    {
      "cell_type": "code",
      "metadata": {
        "id": "kG950zW5Minu",
        "colab_type": "code",
        "colab": {}
      },
      "source": [
        ""
      ],
      "execution_count": null,
      "outputs": []
    },
    {
      "cell_type": "markdown",
      "metadata": {
        "id": "v-ZaP2oKL3F7",
        "colab_type": "text"
      },
      "source": [
        "\n",
        "7: Usando o f-string e a indexação escreva na tela os seguintes dados:<br><br>\n",
        "Abioluz - abacaxi - 10 - Cachorro grande é de arrasar - 20 - 80\n"
      ]
    },
    {
      "cell_type": "code",
      "metadata": {
        "id": "Z0MQgvfFMmsz",
        "colab_type": "code",
        "colab": {}
      },
      "source": [
        ""
      ],
      "execution_count": null,
      "outputs": []
    },
    {
      "cell_type": "markdown",
      "metadata": {
        "id": "eX5_oW0gL3kL",
        "colab_type": "text"
      },
      "source": [
        "8: Usando o f-string e a indexação escreva na tela os seguintes dados:<br><br>\n",
        "amor - 10 - 10 - abacaxi - Cachorro grande é de arrasar - Abioluz - 10 - 20"
      ]
    },
    {
      "cell_type": "code",
      "metadata": {
        "id": "-SwMfGwBMvsi",
        "colab_type": "code",
        "colab": {}
      },
      "source": [
        ""
      ],
      "execution_count": null,
      "outputs": []
    },
    {
      "cell_type": "markdown",
      "metadata": {
        "id": "sVsk4dKHL4GM",
        "colab_type": "text"
      },
      "source": [
        "9: Usando a indexação, escreva na tela uma lista com dados de 10 até 80"
      ]
    },
    {
      "cell_type": "code",
      "metadata": {
        "id": "1utL0x-3MwYf",
        "colab_type": "code",
        "colab": {}
      },
      "source": [
        ""
      ],
      "execution_count": null,
      "outputs": []
    },
    {
      "cell_type": "markdown",
      "metadata": {
        "id": "AbrHT9jvL4Ma",
        "colab_type": "text"
      },
      "source": [
        "10: Usando a indexação, escreva na tela os seguintes dados:<br><br>\n",
        "10, abacaxi, Cachorro grande é de arrasar"
      ]
    },
    {
      "cell_type": "code",
      "metadata": {
        "id": "VMe6eL8_MJv_",
        "colab_type": "code",
        "colab": {}
      },
      "source": [
        ""
      ],
      "execution_count": null,
      "outputs": []
    },
    {
      "cell_type": "markdown",
      "metadata": {
        "id": "i19YAXuBM0lL",
        "colab_type": "text"
      },
      "source": [
        "\n",
        "\n",
        "---\n",
        "\n"
      ]
    }
  ]
}