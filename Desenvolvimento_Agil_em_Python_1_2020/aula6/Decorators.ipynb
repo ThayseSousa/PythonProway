{
  "nbformat": 4,
  "nbformat_minor": 0,
  "metadata": {
    "colab": {
      "name": "Decorators.ipynb",
      "provenance": [],
      "collapsed_sections": []
    },
    "kernelspec": {
      "name": "python3",
      "display_name": "Python 3"
    }
  },
  "cells": [
    {
      "cell_type": "markdown",
      "metadata": {
        "id": "ZJdo_nW0O-2J",
        "colab_type": "text"
      },
      "source": [
        "<h1><b>Decorators</b></h1>"
      ]
    },
    {
      "cell_type": "code",
      "metadata": {
        "id": "1ho5T47pO9m9",
        "colab_type": "code",
        "colab": {}
      },
      "source": [
        "from time import time"
      ],
      "execution_count": 1,
      "outputs": []
    },
    {
      "cell_type": "code",
      "metadata": {
        "id": "lFblSU-pO-jD",
        "colab_type": "code",
        "colab": {}
      },
      "source": [
        "def decoradora(funcao):\n",
        "    def interno(*arg,**kargs):\n",
        "        a = time()\n",
        "        resultado = funcao(*arg,**kargs)\n",
        "        print(time()-a)\n",
        "        return resultado\n",
        "    return interno\n"
      ],
      "execution_count": 14,
      "outputs": []
    },
    {
      "cell_type": "code",
      "metadata": {
        "id": "UqHjmBjAQXq7",
        "colab_type": "code",
        "colab": {}
      },
      "source": [
        "@decoradora\n",
        "def soma(a,b):\n",
        "    for i in range(a**b):\n",
        "        pass\n",
        "    return a+b"
      ],
      "execution_count": 20,
      "outputs": []
    },
    {
      "cell_type": "code",
      "metadata": {
        "id": "EjIJTzIxQnW0",
        "colab_type": "code",
        "colab": {}
      },
      "source": [
        "print(soma(10,6))"
      ],
      "execution_count": null,
      "outputs": []
    }
  ]
}