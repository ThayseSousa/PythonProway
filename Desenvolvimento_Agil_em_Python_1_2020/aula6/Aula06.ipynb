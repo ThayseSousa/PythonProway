{
  "nbformat": 4,
  "nbformat_minor": 0,
  "metadata": {
    "colab": {
      "name": "Aula06.ipynb",
      "provenance": [],
      "collapsed_sections": []
    },
    "kernelspec": {
      "name": "python3",
      "display_name": "Python 3"
    }
  },
  "cells": [
    {
      "cell_type": "markdown",
      "metadata": {
        "id": "ggusXhm_7jI7",
        "colab_type": "text"
      },
      "source": [
        "<h1><b>Trabalhando com datas</b></h1>\n"
      ]
    },
    {
      "cell_type": "code",
      "metadata": {
        "id": "dUeJnrrh5WFT",
        "colab_type": "code",
        "colab": {}
      },
      "source": [
        "from datetime import date, time, datetime, timedelta\n",
        "from dateutil.relativedelta import relativedelta\n",
        "from time import sleep, asctime, time\n"
      ],
      "execution_count": 32,
      "outputs": []
    },
    {
      "cell_type": "markdown",
      "metadata": {
        "id": "S0tU39SW73le",
        "colab_type": "text"
      },
      "source": [
        "**Ver o dia de hoje**"
      ]
    },
    {
      "cell_type": "code",
      "metadata": {
        "id": "ALiSDH087i1X",
        "colab_type": "code",
        "colab": {
          "base_uri": "https://localhost:8080/",
          "height": 50
        },
        "outputId": "d1e5439f-20d0-43dc-adeb-6211e4e088a8"
      },
      "source": [
        "print(date.today())\n",
        "print(asctime())"
      ],
      "execution_count": 12,
      "outputs": [
        {
          "output_type": "stream",
          "text": [
            "2020-07-10\n",
            "Fri Jul 10 23:06:45 2020\n"
          ],
          "name": "stdout"
        }
      ]
    },
    {
      "cell_type": "markdown",
      "metadata": {
        "id": "9YYaC0xU8D8N",
        "colab_type": "text"
      },
      "source": [
        "**Adicionar data e hora**\n",
        "\n",
        "```\n",
        "data = datetime(ano,mês,dia,hora,minuto,segundo)\n",
        "data = date(ano,mês,dia)\n",
        "data = datetime(hora,minuto,segundo)\n",
        "```\n"
      ]
    },
    {
      "cell_type": "code",
      "metadata": {
        "id": "g8LnCwKTMNMd",
        "colab_type": "code",
        "colab": {
          "base_uri": "https://localhost:8080/",
          "height": 50
        },
        "outputId": "b5160884-d417-4fe6-c9bc-ca356678c35e"
      },
      "source": [
        "data1 = date(2020,7,11)\n",
        "data2 = date(2020,10,23)\n",
        "print(data1)\n",
        "print(data2)"
      ],
      "execution_count": 29,
      "outputs": [
        {
          "output_type": "stream",
          "text": [
            "2020-07-11\n",
            "2020-10-23\n"
          ],
          "name": "stdout"
        }
      ]
    },
    {
      "cell_type": "markdown",
      "metadata": {
        "id": "l2rICkzvGmlp",
        "colab_type": "text"
      },
      "source": [
        "**Configurar apresentação do dia mês ano.....**\n",
        "\n",
        "Usar com .strftime() <br>\n",
        ".strftime( formato ) \n",
        "Retorne uma string que representa a data e a hora, controlada por uma string de formato explícito.\n",
        "<br><br>\n",
        "\n",
        "**%a** <br>\n",
        "Dia da semana como nome abreviado da localidade.<br>\n",
        "Sun, Mon, …, Sat (en_US);<br>\n",
        "So, Mo, …, Sa (de_DE)\n",
        "<br><br>\n",
        "\n",
        "**%A**<br>\n",
        "\n",
        "Dia da semana como o nome completo da localidade.<br>\n",
        "\n",
        "Sunday, Monday, …, Saturday (en_US);<br>\n",
        "Sonntag, Montag, …, Samstag (de_DE)\n",
        "<br><br>\n",
        "\n",
        "**%w**<br>\n",
        "\n",
        "Dia da semana como um número decimal, onde 0 é domingo e 6 é sábado<br>\n",
        "\n",
        "0, 1, …, 6<br><br>\n",
        "\n",
        "**%d**<br>\n",
        "\n",
        "Dia do mês como um número decimal preenchido com zero.<br>\n",
        "\n",
        "01, 02, …, 31\n",
        "\n",
        "<br><br>\n",
        "\n",
        "**%b**<br>\n",
        "\n",
        "Mês como nome abreviado da localidade.<br>\n",
        "\n",
        "Jan, Feb, …, Dec (en_US);<br>\n",
        "Jan, Feb, …, Dez (de_DE)\n",
        "<br><br>\n",
        "\n",
        "**%B**<br>\n",
        "\n",
        "Mês como nome completo do código do idioma.<br>\n",
        "\n",
        "January, February, …, December (en_US);<br>\n",
        "Januar, Februar, …, Dezember (de_DE)\n",
        "<br><br>\n",
        "\n",
        "**%m**<br>\n",
        "\n",
        "Mês como um número decimal preenchido com zero.<br>\n",
        "\n",
        "01, 02, …, 12<br><br>\n",
        "\n",
        "\n",
        "\n",
        "**%y**<br>\n",
        "\n",
        "Ano sem século como um número decimal preenchido com zero.<br>\n",
        "\n",
        "00, 01, …, 99\n",
        "\n",
        "<br><br>\n",
        "\n",
        "**%Y**<br>\n",
        "\n",
        "Ano com o século como um número decimal.<br>\n",
        "\n",
        "0001, 0002, …, 2013, 2014, …, 9998, 9999\n",
        "\n",
        "<br><br>\n",
        "\n",
        "**%H**<br>\n",
        "\n",
        "Hora (relógio de 24 horas) como um número decimal preenchido com zero.<br>\n",
        "\n",
        "00, 01, …, 23<br>\n",
        "\n",
        "<br><br>\n",
        "\n",
        "**%I**<br>\n",
        "\n",
        "Hora (relógio de 12 horas) como um número decimal preenchido com zero.<br>\n",
        "\n",
        "01, 02, …, 12\n",
        "\n",
        "<br><br>\n",
        "\n",
        "**%p**<br>\n",
        "\n",
        "O equivalente da localidade é AM ou PM.\n",
        "\n",
        "<br>\n",
        "\n",
        "AM, PM (en_US);<br>\n",
        "am, pm (de_DE)\n",
        "<br><br>\n",
        "\n",
        "**%M**<br>\n",
        "\n",
        "Minuto como um número decimal preenchido com zero.<br>\n",
        "\n",
        "00, 01, …, 59<br>\n",
        "\n",
        "<br>\n",
        "\n",
        "**%S**<br>\n",
        "\n",
        "Segundo como um número decimal preenchido com zero.<br>\n",
        "\n",
        "00, 01, …, 59\n",
        "\n",
        "<br><br>\n",
        "\n",
        "**%f**<br>\n",
        "\n",
        "Microssegundo como um número decimal, preenchido com zero à esquerda.<br>\n",
        "\n",
        "000000, 000001, …, 999999<br>\n",
        "\n",
        "<br><br>\n",
        "\n",
        "**%z**<br>\n",
        "\n",
        "Deslocamento UTC no formulário ±HHMM[SS[.ffffff]](sequência vazia se o objeto for ingênuo).<br>\n",
        "\n",
        "(empty), +0000, -0400, +1030, +063415, -030712.345216\n",
        "\n",
        "<br><br>\n",
        "\n",
        "**%Z**<br>\n",
        "\t\n",
        "Nome do fuso horário (sequência vazia se o objeto for ingênuo).<br>\n",
        "\n",
        "(empty), UTC, EST, CST<br><br>\n",
        "\n",
        "**%j**<br>\n",
        "\n",
        "Dia do ano como um número decimal preenchido com zero.<br>\n",
        "\n",
        "001, 002, …, 366\n",
        "\n",
        "<br><br>\n",
        "\n",
        "**%U**<br>\n",
        "\n",
        "\t\n",
        "Número da semana do ano (domingo como o primeiro dia da semana) como um número decimal preenchido com zero. Todos os dias em um novo ano anterior ao primeiro domingo são considerados na semana 0.<br>\n",
        "\n",
        "00, 01, …, 53\n",
        "\n",
        "<br><br>\n",
        "\n",
        "**%W**<br>\n",
        "\n",
        "\t\n",
        "Número da semana do ano (segunda-feira como o primeiro dia da semana) como um número decimal. Todos os dias em um novo ano anterior à primeira segunda-feira são considerados na semana 0.<br>\n",
        "\n",
        "00, 01, …, 53\n",
        "\n",
        "<br><br>\n",
        "\n",
        "**%c**<br>\n",
        "\n",
        "Representação apropriada de data e hora da localidade.<br>\n",
        "\n",
        "Tue Aug 16 21:30:00 1988 (en_US);<br>\n",
        "Di 16 Aug 21:30:00 1988 (de_DE)\n",
        "<br><br>\n",
        "\n",
        "**%x**<br>\n",
        "\n",
        "Representação de data apropriada da localidade.<br>\n",
        "\n",
        "08/16/88 (None);<br>\n",
        "08/16/1988 (en_US);<br>\n",
        "16.08.1988 (de_DE)\n",
        "<br><br>\n",
        "\n",
        "**%X**<br>\n",
        "\n",
        "Representação de tempo apropriada da localidade.<br>\n",
        "\n",
        "21:30:00 (en_US);<br>\n",
        "21:30:00 (de_DE)\n",
        "<br><br>\n",
        "\n",
        "**%%**<br>\n",
        "\n",
        "A literal '%' character.<br>\n",
        "\n",
        "%<br><br>\n",
        "\n",
        "\n",
        "\n",
        "Fonte:\n",
        "https://docs.python.org/3/library/datetime.html?highlight=dateutil#strftime-strptime-behavior\n"
      ]
    },
    {
      "cell_type": "code",
      "metadata": {
        "id": "RcbbzNdRGnc3",
        "colab_type": "code",
        "colab": {
          "base_uri": "https://localhost:8080/",
          "height": 50
        },
        "outputId": "b94731a8-66c2-4dc8-9725-009d286d228d"
      },
      "source": [
        "data1 = date(2020,7,11)\n",
        "data2 = date(2020,10,23)\n",
        "print(data1.strftime(\"%d/%m/%Y\"))\n",
        "print(data2.strftime(\"%d/%m/%Y\"))"
      ],
      "execution_count": 30,
      "outputs": [
        {
          "output_type": "stream",
          "text": [
            "11/07/2020\n",
            "23/10/2020\n"
          ],
          "name": "stdout"
        }
      ]
    },
    {
      "cell_type": "markdown",
      "metadata": {
        "id": "WMA3yvij8u9e",
        "colab_type": "text"
      },
      "source": [
        "**Diferença entre 2 datas**\n"
      ]
    },
    {
      "cell_type": "code",
      "metadata": {
        "id": "_p-ER9aV8UeS",
        "colab_type": "code",
        "colab": {
          "base_uri": "https://localhost:8080/",
          "height": 34
        },
        "outputId": "342af37f-0ed4-47eb-cc54-c82e95459845"
      },
      "source": [
        "data1 = date(2020,7,11)\n",
        "data2 = date(2020,10,23)\n",
        "print(data1-data2)"
      ],
      "execution_count": 18,
      "outputs": [
        {
          "output_type": "stream",
          "text": [
            "-104 days, 0:00:00\n"
          ],
          "name": "stdout"
        }
      ]
    },
    {
      "cell_type": "markdown",
      "metadata": {
        "id": "gQ5OiTTFAliw",
        "colab_type": "text"
      },
      "source": [
        "**Somando dias a datas**\n",
        "\n",
        "Usando o timedelta\n",
        "\n",
        "```\n",
        "timedelta(days=0, seconds=0, microseconds=0, milliseconds=0, minutes=0, hours=0, weeks=0)\n",
        "```\n",
        "\n",
        "Um milissegundo é convertido em 1000 microssegundos.<br>\n",
        "Um minuto é convertido em 60 segundos.<br>\n",
        "Uma hora é convertida em 3600 segundos.<br>\n",
        "Uma semana é convertida em 7 dias.<br>\n",
        "\n",
        "---\n",
        "\n",
        "Usando o relativedelta\n",
        "\n",
        "```\n",
        "relativedelta(years=0, months=0, days=0, leapdays=0, weeks=0, hours=0, minutes=0, seconds=0, microseconds=0)\n",
        "```\n"
      ]
    },
    {
      "cell_type": "code",
      "metadata": {
        "id": "Di7vPY_7AmMJ",
        "colab_type": "code",
        "colab": {
          "base_uri": "https://localhost:8080/",
          "height": 34
        },
        "outputId": "de0f611e-38bb-4e3e-e235-b1aa7d190bb9"
      },
      "source": [
        "dt = data1 + relativedelta(months=+3)\n",
        "print(dt.strftime(\"%d/%m/%Y\"))"
      ],
      "execution_count": 31,
      "outputs": [
        {
          "output_type": "stream",
          "text": [
            "11/10/2020\n"
          ],
          "name": "stdout"
        }
      ]
    },
    {
      "cell_type": "code",
      "metadata": {
        "id": "XKDWQxy583Ge",
        "colab_type": "code",
        "colab": {
          "base_uri": "https://localhost:8080/",
          "height": 34
        },
        "outputId": "71241fa3-f445-4b5d-9c04-88925d6f72d3"
      },
      "source": [
        "date.today()+relativedelta(months=+3)"
      ],
      "execution_count": 8,
      "outputs": [
        {
          "output_type": "execute_result",
          "data": {
            "text/plain": [
              "datetime.date(2020, 10, 10)"
            ]
          },
          "metadata": {
            "tags": []
          },
          "execution_count": 8
        }
      ]
    },
    {
      "cell_type": "markdown",
      "metadata": {
        "id": "zJof1IChNSuG",
        "colab_type": "text"
      },
      "source": [
        "**Pausando o programa**\n",
        "<br>\n",
        "função sleep paus o programa por um determinado tempo em segundos<br>\n",
        "```\n",
        "sleep(segundos)\n",
        "```\n"
      ]
    },
    {
      "cell_type": "code",
      "metadata": {
        "id": "A4IuSRQ4NKVa",
        "colab_type": "code",
        "colab": {}
      },
      "source": [
        "\n"
      ],
      "execution_count": null,
      "outputs": []
    },
    {
      "cell_type": "markdown",
      "metadata": {
        "id": "dhraf7l5NutK",
        "colab_type": "text"
      },
      "source": [
        "**Contando o tempo de execução**\n",
        "<br>\n",
        "A função time() retorna a quantidade de tempo do sistema em segundos\n",
        "\n",
        "```\n",
        "time(30)\n",
        "```"
      ]
    },
    {
      "cell_type": "code",
      "metadata": {
        "id": "jWK24Ku7OHjf",
        "colab_type": "code",
        "colab": {
          "base_uri": "https://localhost:8080/",
          "height": 67
        },
        "outputId": "dd546832-a1b9-44f8-f7e1-d932c6698cf1"
      },
      "source": [
        "a = time()\n",
        "print('Olá')\n",
        "sleep(5)\n",
        "print(\"mundo\")\n",
        "print(time()-a)"
      ],
      "execution_count": 34,
      "outputs": [
        {
          "output_type": "stream",
          "text": [
            "Olá\n",
            "mundo\n",
            "5.006089687347412\n"
          ],
          "name": "stdout"
        }
      ]
    }
  ]
}