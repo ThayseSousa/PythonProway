{
  "nbformat": 4,
  "nbformat_minor": 0,
  "metadata": {
    "colab": {
      "name": "pro_func.ipynb",
      "provenance": [],
      "collapsed_sections": []
    },
    "kernelspec": {
      "name": "python3",
      "display_name": "Python 3"
    }
  },
  "cells": [
    {
      "cell_type": "markdown",
      "metadata": {
        "id": "frCvlHkHXhJO",
        "colab_type": "text"
      },
      "source": [
        "<h1><b>Programação Funcional</b></h1>\n",
        "\n",
        "É uma paradigma onde o programa é visto como uma sequencia de funções matemáticas.\n"
      ]
    },
    {
      "cell_type": "markdown",
      "metadata": {
        "id": "63FK91N0XpVM",
        "colab_type": "text"
      },
      "source": [
        "As funções que iremos conhecer são:\n",
        "- zip(): (já vimos)\n",
        "- lambda()\n",
        "- filter()\n",
        "- reduce()\n",
        "- map()\n",
        "\n",
        "\n",
        "\n",
        "---\n",
        "\n"
      ]
    },
    {
      "cell_type": "markdown",
      "metadata": {
        "id": "AhNmSFchYsAe",
        "colab_type": "text"
      },
      "source": [
        "**Função lambda (Bônus)**\n",
        "<br>\n",
        "É uma função anônima, de uma linha e atribuida a uma variável.\n",
        "\n",
        "\n",
        "```\n",
        "var = lambda <lista de variaveis> : <expressao>\n",
        "var = lambda <lista de variaveis> : <expressao> if <condicao> else <expressao2>\n",
        "soma = lambda numero1, numero2: numero1 + numero2\n",
        "```\n",
        "\n"
      ]
    },
    {
      "cell_type": "code",
      "metadata": {
        "id": "NOC-okEXXgKN",
        "colab_type": "code",
        "colab": {}
      },
      "source": [
        ""
      ],
      "execution_count": null,
      "outputs": []
    },
    {
      "cell_type": "markdown",
      "metadata": {
        "id": "o3kT19yUbjvc",
        "colab_type": "text"
      },
      "source": [
        "**Mapeamento**\n",
        "<br>\n",
        "A função map() consiste em aplicar uma função a todos os itêns da lista e gera uma lista nova contendo todos os resultados.\n",
        "\n",
        "```\n",
        "lista_resultado = map( funcao  , lista)\n",
        "lista_resultado = list(lista_resultado)\n",
        "```\n",
        "A função pode ser uma função def ou lambda, deve ter somente uma variável como parametro.<br>\n",
        "A Lista deve ser uma lista simples e com só um tipo de variável."
      ]
    },
    {
      "cell_type": "code",
      "metadata": {
        "id": "4nyXv5llcUza",
        "colab_type": "code",
        "colab": {}
      },
      "source": [
        ""
      ],
      "execution_count": null,
      "outputs": []
    },
    {
      "cell_type": "markdown",
      "metadata": {
        "id": "D3Lc7mwTgNbZ",
        "colab_type": "text"
      },
      "source": [
        "**Filtragem**<br>\n",
        "A função filtragem pega os elemetos de uma lista, passa por uma função de filtragem e retorna uma lista com os elementos desejados.\n",
        "```\n",
        "lista_resultado = filter( funcao  , lista)\n",
        "lista_resultado = list(lista_resultado)\n",
        "```\n",
        "\n",
        "A função deve receber somente uma variável, fazer a comparação e retornar True para verdadeiro ou False para falso.<br>\n",
        "Somente os elementos que a função retornou True vão para a lista final."
      ]
    },
    {
      "cell_type": "code",
      "metadata": {
        "id": "V8p7QFl3hLbQ",
        "colab_type": "code",
        "colab": {}
      },
      "source": [
        "from random import randint as rd\n",
        "funcao = lambda x: True if x == 'f' else False\n",
        "lista = ['f' if (rd(0,1)==1) else \"m\" for i in range(20) ]\n",
        "print(lista)\n",
        "print(list( filter(funcao,lista)   ))"
      ],
      "execution_count": null,
      "outputs": []
    },
    {
      "cell_type": "markdown",
      "metadata": {
        "id": "fsjOIyHojNx0",
        "colab_type": "text"
      },
      "source": [
        "**Redução**<br>\n",
        "Redução aplica uma função *(que irá receber 2 variáveis como parametros)* aplica-la na lista e retornar um só valor.\n",
        "Detalhe é que ele vai pegar valor por valor e ir acumulando na função definida.\n",
        "\n",
        "\n",
        "```\n",
        "# É necessário fazer a importação do módulo\n",
        "from functools import reduce\n",
        "\n",
        "var = reduce( funcao, lista)\n",
        "\n",
        "```\n",
        "\n"
      ]
    },
    {
      "cell_type": "code",
      "metadata": {
        "id": "ZIIDggBYjNZR",
        "colab_type": "code",
        "colab": {
          "base_uri": "https://localhost:8080/",
          "height": 34
        },
        "outputId": "1993ca54-6c99-4fd3-9545-37379642c8f2"
      },
      "source": [
        "from functools import reduce\n",
        "\n",
        "lista = [1,1,2,2,3,3,4,10,10]\n",
        "\n",
        "funcao = lambda x, y: x^y \n",
        "print(reduce(funcao,lista))"
      ],
      "execution_count": 40,
      "outputs": [
        {
          "output_type": "stream",
          "text": [
            "4\n"
          ],
          "name": "stdout"
        }
      ]
    },
    {
      "cell_type": "code",
      "metadata": {
        "id": "DnrLVND1nPKL",
        "colab_type": "code",
        "colab": {
          "base_uri": "https://localhost:8080/",
          "height": 34
        },
        "outputId": "25113b2f-2ebe-43ed-f4d6-64d4be93f104"
      },
      "source": [
        "b = 10\n",
        "c = 2\n",
        "try:\n",
        "    a = b/c\n",
        "    #d\n",
        "except:\n",
        "    a=\"Não pode dividir por zero!\"\n",
        "print(a)"
      ],
      "execution_count": 52,
      "outputs": [
        {
          "output_type": "stream",
          "text": [
            "5.0\n"
          ],
          "name": "stdout"
        }
      ]
    },
    {
      "cell_type": "code",
      "metadata": {
        "id": "9iVtpfKOoIbH",
        "colab_type": "code",
        "colab": {
          "base_uri": "https://localhost:8080/",
          "height": 162
        },
        "outputId": "a32e8adf-e22c-4e46-8893-a9997a190b99"
      },
      "source": [
        "10/0"
      ],
      "execution_count": 49,
      "outputs": [
        {
          "output_type": "error",
          "ename": "ZeroDivisionError",
          "evalue": "ignored",
          "traceback": [
            "\u001b[0;31m---------------------------------------------------------------------------\u001b[0m",
            "\u001b[0;31mZeroDivisionError\u001b[0m                         Traceback (most recent call last)",
            "\u001b[0;32m<ipython-input-49-e574edb36883>\u001b[0m in \u001b[0;36m<module>\u001b[0;34m()\u001b[0m\n\u001b[0;32m----> 1\u001b[0;31m \u001b[0;36m10\u001b[0m\u001b[0;34m/\u001b[0m\u001b[0;36m0\u001b[0m\u001b[0;34m\u001b[0m\u001b[0;34m\u001b[0m\u001b[0m\n\u001b[0m",
            "\u001b[0;31mZeroDivisionError\u001b[0m: division by zero"
          ]
        }
      ]
    }
  ]
}