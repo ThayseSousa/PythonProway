{
  "nbformat": 4,
  "nbformat_minor": 0,
  "metadata": {
    "colab": {
      "name": "Aula06.ipynb",
      "provenance": [],
      "collapsed_sections": []
    },
    "kernelspec": {
      "name": "python3",
      "display_name": "Python 3"
    }
  },
  "cells": [
    {
      "cell_type": "markdown",
      "metadata": {
        "id": "9q-zvPMWihGU",
        "colab_type": "text"
      },
      "source": [
        "**Objetos:**<br>\n",
        "\n",
        "\n",
        "São representações de entidades no programa:\n",
        "Pessoa, carrro, restaurante são entidades.\n",
        "\n",
        "As entidades se relacionam entre si e resolvem problemas no mundo real\n",
        "Pessoa dirige carro até o restaurante.\n",
        "\n",
        "Os objetos são criados no python pela classe (class).\n",
        "\n",
        "A ação do objeto é feito pelos métodos (def)\n",
        "Correr, andar, comer....\n",
        "\n",
        "O seu estado são guardados em atributos (variáveis)\n",
        "cansado = True, faminto = False, vivo = True\n",
        "\n",
        "Mas o que nos interessa é que...\n",
        "No python tudo é objeto.\n",
        "\n",
        "E os objetos são criados ao atribui-los a uma variável\n",
        "a= 10 (objeto do tipo inteiro)\n",
        "a = media(lista) (objeto do tipo função)\n",
        "a = Relatorio () (Objeto do tipo classe)"
      ]
    },
    {
      "cell_type": "code",
      "metadata": {
        "id": "CIa75hCBxqq0",
        "colab_type": "code",
        "colab": {
          "base_uri": "https://localhost:8080/",
          "height": 68
        },
        "outputId": "96331a10-1428-4652-e355-0e08cc37b3e5"
      },
      "source": [
        "a = 0\n",
        "lista = [print]\n",
        "imprimir = print\n",
        "lista[0]('ola mundo')\n",
        "numero = \"123\"\n",
        "inteiro = int\n",
        "print(type(numero))\n",
        "print(type(inteiro(numero)))"
      ],
      "execution_count": 6,
      "outputs": [
        {
          "output_type": "stream",
          "text": [
            "ola mundo\n",
            "<class 'str'>\n",
            "<class 'int'>\n"
          ],
          "name": "stdout"
        }
      ]
    },
    {
      "cell_type": "markdown",
      "metadata": {
        "id": "CClsRBL9ipki",
        "colab_type": "text"
      },
      "source": [
        "**Introspecção**\n",
        "\n",
        "É a capacidade do Python identificar estados de seus objetos\n",
        "\n",
        "type() - Tipo do objeto.\n",
        "\n",
        "id() - identificador do objeto.\n",
        "\n",
        "len() - Tamanho do objeto.\n",
        "\n",
        "dir() - Lista de estrutura do objeto.\n",
        "\n",
        "help() - Doc String do objeto."
      ]
    },
    {
      "cell_type": "code",
      "metadata": {
        "id": "smOgj0h2isN_",
        "colab_type": "code",
        "colab": {}
      },
      "source": [
        ""
      ],
      "execution_count": null,
      "outputs": []
    },
    {
      "cell_type": "markdown",
      "metadata": {
        "id": "Q9Qs8V4yikYC",
        "colab_type": "text"
      },
      "source": [
        "**Formatando String**\n",
        "É a forma de melhorara apresentação das variáveis na string\n",
        "\n",
        "**Formatando String**\n",
        "(referencia https://pyformat.info/)\n",
        "\n",
        ":< alinhar a esquerda<br>\n",
        ":> alinhar a direita<br>\n",
        ":^ alinhar ao centro<br>\n",
        "<br>\n",
        "s = string<br>\n",
        "d = inteiros<br>\n",
        "f = float<br>\n",
        "\n",
        ":04d = adiciona 0 na frente<br>\n",
        ":+s  = adiciona + na frente, para negativo, colocar na frente da variável<br>\n",
        "print(f\"{-a:9.2f}\")<br>\n",
        "\"{:9.2f}\".format(-a)<br>\n",
        "<br>\n",
        ": numero de casas .<br>\n",
        "\n",
        "format<br>\n",
        "print(\"{:.2f}\".format(a))<br>\n",
        "'{1} {0}'.format('Um', 'Dois')<br>\n",
        "'{0} {0}'.format('Um', 'Dois')<br>\n",
        "\n",
        "f-string<br>\n",
        "a=15.656565656565<br>\n",
        "print(f\"{a:.2f}\")<br>\n"
      ]
    },
    {
      "cell_type": "code",
      "metadata": {
        "id": "m-z2fcJminKP",
        "colab_type": "code",
        "colab": {}
      },
      "source": [
        "# Mostrando o formato para números Reais (float ou ponto flutuante)\n",
        "a = 10.6666661\n",
        "print('O número é:',a)\n",
        "print(f\"O número é: {a:.2f}\")\n",
        "print(\"O número é: {:.2f}\".format(a))\n",
        "print('O número é:',a)"
      ],
      "execution_count": null,
      "outputs": []
    },
    {
      "cell_type": "code",
      "metadata": {
        "id": "S5xIoSg4tn-d",
        "colab_type": "code",
        "colab": {}
      },
      "source": [
        "# Mostrando o formato para número inteiros\n",
        "a = 10\n",
        "print('O número é:',a)\n",
        "print(f\"O número é: {a:d}\")\n",
        "print(\"O número é: {:d}\".format(a))\n",
        "print('O número é:',a)"
      ],
      "execution_count": null,
      "outputs": []
    },
    {
      "cell_type": "code",
      "metadata": {
        "id": "UDq8gJmZuTF6",
        "colab_type": "code",
        "colab": {}
      },
      "source": [
        "# Mostrando o formato para string\n",
        "a = \"É 12 rapazi!\"\n",
        "print('O número é:',a)\n",
        "print(f\"O número é: {a:s}\")\n",
        "print(\"O número é: {:s}\".format(a))\n",
        "print('O número é:',a)"
      ],
      "execution_count": null,
      "outputs": []
    },
    {
      "cell_type": "code",
      "metadata": {
        "id": "A_8-VmRhulvC",
        "colab_type": "code",
        "colab": {}
      },
      "source": [
        "# Mostrando Alinhamento\n",
        "\n",
        "#:< alinhar a esquerda\n",
        "#:> alinhar a direita\n",
        "#:^ alinhar ao centro\n",
        "\n",
        "inteiro = 123\n",
        "real = 125.66666666666668\n",
        "texto = 'Olá Mundão de meu Deus'\n",
        "\n",
        "print(f\"O preço é: R${real:^10.2f}-pague no caixa\")\n",
        "print(f\"O número é: {inteiro:>10d} da fila\")\n",
        "print(f'A frase do dia é: \"{texto:<30s}\"')"
      ],
      "execution_count": null,
      "outputs": []
    },
    {
      "cell_type": "code",
      "metadata": {
        "id": "wwSWzwk4wtUY",
        "colab_type": "code",
        "colab": {}
      },
      "source": [
        "# Adicionando o + ou - na frente dos números\n",
        "\n",
        "negativo = -10\n",
        "positivo = 10\n",
        "\n",
        "print(f\"{negativo}\")\n",
        "print(\"{}\".format(negativo))\n",
        "print(f\"{positivo}\")\n",
        "print(\"{}\".format(positivo))\n",
        "print('forçando')\n",
        "print(f\"{-positivo}\")\n",
        "print(\"{}\".format(-positivo))\n",
        "print(f\"+{positivo}\")\n",
        "print(\"+{}\".format(positivo))"
      ],
      "execution_count": null,
      "outputs": []
    },
    {
      "cell_type": "markdown",
      "metadata": {
        "id": "wHeExIjxi0mJ",
        "colab_type": "text"
      },
      "source": [
        "**List Comprehension**<br><br>\n",
        "É uma forma de criar uma lista rápida.<br>\n",
        "Ela possui 3 partes:<br>\n",
        "Ação: O que se faz com a variável final<br>\n",
        "Itens interados: criando as variáveis para a Ação<br>\n",
        "Filtro: Filtro para selecionar e filtrar elementos<br>\n",
        "lista = [\\<ação> for \\<variavel> in \\<interados> if \\<filtro>] <br>\n",
        "lista = [x for x in range(100) if x%2 == 0] <br>*texto em itálico*"
      ]
    },
    {
      "cell_type": "code",
      "metadata": {
        "id": "KE2FT5JUkmpM",
        "colab_type": "code",
        "colab": {
          "base_uri": "https://localhost:8080/",
          "height": 54
        },
        "outputId": "065f964d-b9d9-4df6-9968-b837a6c2c98a"
      },
      "source": [
        "# Ação, intens interados, filtro\n",
        "lista = [x for x in range(100) if x == 10 or x == 50] \n",
        "lista = [x*3 for x in range(100)]\n",
        "print(lista)"
      ],
      "execution_count": 47,
      "outputs": [
        {
          "output_type": "stream",
          "text": [
            "[0, 3, 6, 9, 12, 15, 18, 21, 24, 27, 30, 33, 36, 39, 42, 45, 48, 51, 54, 57, 60, 63, 66, 69, 72, 75, 78, 81, 84, 87, 90, 93, 96, 99, 102, 105, 108, 111, 114, 117, 120, 123, 126, 129, 132, 135, 138, 141, 144, 147, 150, 153, 156, 159, 162, 165, 168, 171, 174, 177, 180, 183, 186, 189, 192, 195, 198, 201, 204, 207, 210, 213, 216, 219, 222, 225, 228, 231, 234, 237, 240, 243, 246, 249, 252, 255, 258, 261, 264, 267, 270, 273, 276, 279, 282, 285, 288, 291, 294, 297]\n"
          ],
          "name": "stdout"
        }
      ]
    },
    {
      "cell_type": "markdown",
      "metadata": {
        "id": "is0fUdho4uEj",
        "colab_type": "text"
      },
      "source": [
        "Podemos usálo para criar listas de forma rápida e com menos linha\n",
        "\n",
        "\n",
        "\n"
      ]
    },
    {
      "cell_type": "code",
      "metadata": {
        "id": "KWtyR7q142NI",
        "colab_type": "code",
        "colab": {}
      },
      "source": [
        "# Lista\n",
        "lista = '''1;Raimundo;40;f;pacheco_k81@hotmail.com;033901987190\n",
        "4;Fátima;42;f;lspixarosa@terra.com.br;020995548294\n",
        "8;Alexandra;40;f;fabiohenriquedefreitas@yahoo.com.br;025966285345\n",
        "10;Abda Silva;46;f;leahlima@bol.com.br;047943128800\n",
        "11;Cirano;35;f;thevips@linuxmail.com;018974090493\n",
        "12;Bernardo;25;f;francielle_priscila@yahoo.com.br;054999521980\n",
        "13;Dieter;44;f;moni_kbrujit@hotmail.com;023970313438\n",
        "15;Leo;39;f;lookinha5@hotmail.com;033980865576\n",
        "16;Adelinda;28;f;igor_cocaina@hotmail.com;043933370593\n",
        "19;Julieta;26;f;athiagoc@hotmail.com;018970643315\n",
        "20;Dulcineia;44;f;fadinha_erika@hotmail.com;039992476161\n",
        "21;Jaime;26;f;ale_amor05@hotmail.com;046938039948\n",
        "22;Maira;32;f;danielageber@hotmail.com;016955944988\n",
        "26;Alexa;49;f;renattafdc@hotmail.com;051965170895\n",
        "27;Zyndal;20;f;aninha_breezy3vax@yahoo.com.br;036932485868\n",
        "28;Thales;36;f;junior.cuba@hotmail.com;017923394057\n",
        "30;Hermano;23;f;bebado.renato@yahoo.com.br;035996268229\n",
        "32;Murilo Nadia;17;f;williansbeck@hotmail.com;040951090205\n",
        "33;Marcilio;47;f;priscylla00@bol.com.br;044941208441\n",
        "37;Ernani;33;f;jean_0204@yahoo.com.br;046945440140\n",
        "40;Nina;48;f;kellen-layanne@hotmail.com;054965563746\n",
        "41;Talia;31;f;info@24fun.com;053963920267\n",
        "44;Joaquim;30;f;felina-sonia@hotmail.com;031925708731\n",
        "46;Cleopatra;27;f;lukas_natan@yahoo.com.br;036935366701\n",
        "47;Carolina;24;f;gunitcokda@gmail.com;052929880750\n",
        "48;Gioconda;47;f;danielasousa_dany@yahoo.com.br;027969275520\n",
        "49;Luis;31;f;primomaisnovo2008@gmail.com;047952308275\n",
        "55;Osias;43;f;rebekalips@gmail.com;055907929269'''\n",
        "\n",
        "lista_nomes = lista.split(\"\\n\")\n",
        "# print(lista_nomes)\n",
        "\n",
        "# lista_cadastro = []\n",
        "# for pessoa in lista_nomes:\n",
        "#   lista_cadastro.append( pessoa.strip().split(\";\") )\n",
        "\n",
        "\n",
        "lista_cadastro = [pessoa.strip().split(\";\") for pessoa in lista_nomes if not 'Raimundo' in pessoa ]\n",
        "\n",
        "print(lista_cadastro)"
      ],
      "execution_count": null,
      "outputs": []
    },
    {
      "cell_type": "markdown",
      "metadata": {
        "id": "vrkmUnNpizVz",
        "colab_type": "text"
      },
      "source": [
        "Transposição Com O Método Zip\n"
      ]
    },
    {
      "cell_type": "code",
      "metadata": {
        "id": "Q2-z0PbKkhFg",
        "colab_type": "code",
        "colab": {}
      },
      "source": [
        "\n",
        "a = ['a','b','c','d']\n",
        "b = [0,1,2,3]\n",
        "lista_empacotada = list( zip(a,b) )\n",
        "print(lista_empacotada)\n",
        "des_a , des_b = zip(*lista_empacotada)\n",
        "print(des_a , des_b)\n",
        "\n",
        "dicionario = dict(lista_empacotada)\n",
        "print(dicionario)\n",
        "des_a , des_b = zip(*dicionario.items())\n",
        "print(des_a , des_b)"
      ],
      "execution_count": null,
      "outputs": []
    },
    {
      "cell_type": "code",
      "metadata": {
        "id": "cNJnwotmHRu4",
        "colab_type": "code",
        "colab": {}
      },
      "source": [
        "a = ['a','b','c','d']\n",
        "b = [0,1,2,3]\n",
        "lista_empacotada = list( zip(a,b) )\n",
        "dic = dict(lista_empacotada)\n",
        "print(dic)\n",
        "dic['oi']=12\n",
        "print(dic)"
      ],
      "execution_count": null,
      "outputs": []
    },
    {
      "cell_type": "code",
      "metadata": {
        "id": "rJVhQ6eFIggV",
        "colab_type": "code",
        "colab": {}
      },
      "source": [
        "lista = '''1;Raimundo;40;f;pacheco_k81@hotmail.com;033901987190\n",
        "4;Fátima;42;f;lspixarosa@terra.com.br;020995548294\n",
        "8;Alexandra;40;f;fabiohenriquedefreitas@yahoo.com.br;025966285345\n",
        "10;Abda Silva;46;f;leahlima@bol.com.br;047943128800\n",
        "11;Cirano;35;f;thevips@linuxmail.com;018974090493\n",
        "12;Bernardo;25;f;francielle_priscila@yahoo.com.br;054999521980\n",
        "13;Dieter;44;f;moni_kbrujit@hotmail.com;023970313438\n",
        "15;Leo;39;f;lookinha5@hotmail.com;033980865576\n",
        "16;Adelinda;28;f;igor_cocaina@hotmail.com;043933370593\n",
        "19;Julieta;26;f;athiagoc@hotmail.com;018970643315\n",
        "20;Dulcineia;44;f;fadinha_erika@hotmail.com;039992476161\n",
        "21;Jaime;26;f;ale_amor05@hotmail.com;046938039948\n",
        "22;Maira;32;f;danielageber@hotmail.com;016955944988\n",
        "26;Alexa;49;f;renattafdc@hotmail.com;051965170895\n",
        "27;Zyndal;20;f;aninha_breezy3vax@yahoo.com.br;036932485868\n",
        "28;Thales;36;f;junior.cuba@hotmail.com;017923394057\n",
        "30;Hermano;23;f;bebado.renato@yahoo.com.br;035996268229\n",
        "32;Murilo Nadia;17;f;williansbeck@hotmail.com;040951090205\n",
        "33;Marcilio;47;f;priscylla00@bol.com.br;044941208441\n",
        "37;Ernani;33;f;jean_0204@yahoo.com.br;046945440140\n",
        "40;Nina;48;f;kellen-layanne@hotmail.com;054965563746\n",
        "41;Talia;31;f;info@24fun.com;053963920267\n",
        "44;Joaquim;30;f;felina-sonia@hotmail.com;031925708731\n",
        "46;Cleopatra;27;f;lukas_natan@yahoo.com.br;036935366701\n",
        "47;Carolina;24;f;gunitcokda@gmail.com;052929880750\n",
        "48;Gioconda;47;f;danielasousa_dany@yahoo.com.br;027969275520\n",
        "49;Luis;31;f;primomaisnovo2008@gmail.com;047952308275\n",
        "55;Osias;43;f;rebekalips@gmail.com;055907929269'''\n",
        "\n",
        "def trans(pessoa):\n",
        "  pessoa = pessoa.strip().split(\";\")\n",
        "  pessoa[0] = int(pessoa[0])\n",
        "  pessoa[2] = int(pessoa[2])\n",
        "  return pessoa\n",
        "\n",
        "lista_nomes = lista.split(\"\\n\")\n",
        "chaves = [\"id\",\"nome\",\"idade\",\"sexo\",\"email\",\"telefone\"]\n",
        "\n",
        "# sem converter os valores para inteiros\n",
        "lista_cadastro = [dict(zip(chaves,pessoa.strip().split(\";\"))) for pessoa in lista_nomes]\n",
        "# convertendo o valores para inteiros\n",
        "lista_cadastro = [dict(zip(chaves,trans(pessoa))) for pessoa in lista_nomes]\n",
        "\n",
        "print(lista_cadastro)\n",
        "for i in lista_cadastro:\n",
        "  print(i['idade'])\n",
        "\n"
      ],
      "execution_count": null,
      "outputs": []
    },
    {
      "cell_type": "code",
      "metadata": {
        "id": "u_N0PWdTNVrQ",
        "colab_type": "code",
        "colab": {}
      },
      "source": [
        "a = ['a','b','c','d']\n",
        "b = [0,1,2,3]\n",
        "lista_empacotada = list( zip(a,b) )\n",
        "print(lista_empacotada)\n",
        "des_a , des_b = zip(*lista_empacotada)\n",
        "print(des_a , des_b)\n",
        "\n",
        "dicionario = dict(lista_empacotada)\n",
        "print(dicionario)\n",
        "des_a , des_b = zip(*dicionario.items())\n",
        "print(dicionario.items())\n",
        "print(des_a , des_b)"
      ],
      "execution_count": null,
      "outputs": []
    },
    {
      "cell_type": "code",
      "metadata": {
        "id": "yJOKdp8nN0u8",
        "colab_type": "code",
        "colab": {
          "base_uri": "https://localhost:8080/",
          "height": 697
        },
        "outputId": "bc6dc53f-9dfd-49c7-df72-7d450d24af45"
      },
      "source": [
        "a = ['a','b','c','d','e']\n",
        "b = [0,1,2,3,4]\n",
        "c = ['ab',\"cd\",'fg','hh','kk']\n",
        "for i,j,k in zip(a,b,c):\n",
        "  print(f\"i: {i}\\nj: {j}\\nk: {k}\\n\")\n",
        "\n",
        "for i in range(len(a)):\n",
        "  print(f\"i: {a[i]}\\nj: {b[i]}\\nk: {c[i]}\\n\")"
      ],
      "execution_count": 87,
      "outputs": [
        {
          "output_type": "stream",
          "text": [
            "i: a\n",
            "j: 0\n",
            "k: ab\n",
            "\n",
            "i: b\n",
            "j: 1\n",
            "k: cd\n",
            "\n",
            "i: c\n",
            "j: 2\n",
            "k: fg\n",
            "\n",
            "i: d\n",
            "j: 3\n",
            "k: hh\n",
            "\n",
            "i: e\n",
            "j: 4\n",
            "k: kk\n",
            "\n",
            "i: a\n",
            "j: 0\n",
            "k: ab\n",
            "\n",
            "i: b\n",
            "j: 1\n",
            "k: cd\n",
            "\n",
            "i: c\n",
            "j: 2\n",
            "k: fg\n",
            "\n",
            "i: d\n",
            "j: 3\n",
            "k: hh\n",
            "\n",
            "i: e\n",
            "j: 4\n",
            "k: kk\n",
            "\n"
          ],
          "name": "stdout"
        }
      ]
    },
    {
      "cell_type": "markdown",
      "metadata": {
        "id": "f_y1qWsPi2BW",
        "colab_type": "text"
      },
      "source": [
        "Geradores e Generator Expression\n",
        "\n"
      ]
    },
    {
      "cell_type": "code",
      "metadata": {
        "id": "ev3SHrpxk1id",
        "colab_type": "code",
        "colab": {
          "base_uri": "https://localhost:8080/",
          "height": 224
        },
        "outputId": "4eb2ca94-aa53-4fad-a990-be6ba87a7bdc"
      },
      "source": [
        "\n",
        "def meu_range1(num):\n",
        "    for i in range(num):\n",
        "        yield i\n",
        "\n",
        "contador = meu_range1(lista_cadastro)\n",
        "\n",
        "def meu_range(num):\n",
        "    for i in num:\n",
        "        yield i\n",
        "contador = meu_range(lista_cadastro)\n",
        "\n",
        "print(next(contador))\n",
        "print(next(contador))\n",
        "print(next(contador))\n",
        "print(next(contador))\n",
        "print(next(contador))\n",
        "print(next(contador))\n",
        "print(next(contador))\n",
        "print(next(contador))\n",
        "print(next(contador))\n",
        "print(next(contador))\n",
        "print(next(contador))\n"
      ],
      "execution_count": 95,
      "outputs": [
        {
          "output_type": "stream",
          "text": [
            "{'id': 1, 'nome': 'Raimundo', 'idade': 40, 'sexo': 'f', 'email': 'pacheco_k81@hotmail.com', 'telefone': '033901987190'}\n",
            "{'id': 4, 'nome': 'Fátima', 'idade': 42, 'sexo': 'f', 'email': 'lspixarosa@terra.com.br', 'telefone': '020995548294'}\n",
            "{'id': 8, 'nome': 'Alexandra', 'idade': 40, 'sexo': 'f', 'email': 'fabiohenriquedefreitas@yahoo.com.br', 'telefone': '025966285345'}\n",
            "{'id': 10, 'nome': 'Abda Silva', 'idade': 46, 'sexo': 'f', 'email': 'leahlima@bol.com.br', 'telefone': '047943128800'}\n",
            "{'id': 11, 'nome': 'Cirano', 'idade': 35, 'sexo': 'f', 'email': 'thevips@linuxmail.com', 'telefone': '018974090493'}\n",
            "{'id': 12, 'nome': 'Bernardo', 'idade': 25, 'sexo': 'f', 'email': 'francielle_priscila@yahoo.com.br', 'telefone': '054999521980'}\n",
            "{'id': 13, 'nome': 'Dieter', 'idade': 44, 'sexo': 'f', 'email': 'moni_kbrujit@hotmail.com', 'telefone': '023970313438'}\n",
            "{'id': 15, 'nome': 'Leo', 'idade': 39, 'sexo': 'f', 'email': 'lookinha5@hotmail.com', 'telefone': '033980865576'}\n",
            "{'id': 16, 'nome': 'Adelinda', 'idade': 28, 'sexo': 'f', 'email': 'igor_cocaina@hotmail.com', 'telefone': '043933370593'}\n",
            "{'id': 19, 'nome': 'Julieta', 'idade': 26, 'sexo': 'f', 'email': 'athiagoc@hotmail.com', 'telefone': '018970643315'}\n",
            "{'id': 20, 'nome': 'Dulcineia', 'idade': 44, 'sexo': 'f', 'email': 'fadinha_erika@hotmail.com', 'telefone': '039992476161'}\n"
          ],
          "name": "stdout"
        }
      ]
    },
    {
      "cell_type": "code",
      "metadata": {
        "id": "R8lUBiFPPafZ",
        "colab_type": "code",
        "colab": {
          "base_uri": "https://localhost:8080/",
          "height": 527
        },
        "outputId": "544dbe66-36eb-44e6-8f2e-8840e172ce9b"
      },
      "source": [
        "list(range(30))"
      ],
      "execution_count": 89,
      "outputs": [
        {
          "output_type": "execute_result",
          "data": {
            "text/plain": [
              "[0,\n",
              " 1,\n",
              " 2,\n",
              " 3,\n",
              " 4,\n",
              " 5,\n",
              " 6,\n",
              " 7,\n",
              " 8,\n",
              " 9,\n",
              " 10,\n",
              " 11,\n",
              " 12,\n",
              " 13,\n",
              " 14,\n",
              " 15,\n",
              " 16,\n",
              " 17,\n",
              " 18,\n",
              " 19,\n",
              " 20,\n",
              " 21,\n",
              " 22,\n",
              " 23,\n",
              " 24,\n",
              " 25,\n",
              " 26,\n",
              " 27,\n",
              " 28,\n",
              " 29]"
            ]
          },
          "metadata": {
            "tags": []
          },
          "execution_count": 89
        }
      ]
    }
  ]
}